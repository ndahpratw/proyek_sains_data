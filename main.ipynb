{
 "cells": [
  {
   "cell_type": "markdown",
   "metadata": {},
   "source": [
    "# TUGAS KLASIFIKASI DATA PROYEK SAINS DATA - B"
   ]
  },
  {
   "cell_type": "markdown",
   "metadata": {},
   "source": [
    "Nama  : Indah Pratiwi    \n",
    "NIM   : 210411100050  \n",
    "Kelas : B  "
   ]
  },
  {
   "cell_type": "markdown",
   "metadata": {},
   "source": [
    "## BUSSINESS UNDERSTANDING\n",
    "---"
   ]
  },
  {
   "cell_type": "markdown",
   "metadata": {},
   "source": [
    "### **Identifikasi kasus** :"
   ]
  },
  {
   "cell_type": "markdown",
   "metadata": {},
   "source": [
    "Diabetes adalah salah satu penyakit kronis paling umum di Amerika Serikat, yang berdampak pada jutaan orang Amerika setiap tahunnya dan memberikan beban keuangan yang signifikan terhadap perekonomian. Pusat Pengendalian dan Pencegahan Penyakit menunjukkan bahwa pada tahun 2018, 34,2 juta orang Amerika menderita diabetes dan 88 juta menderita pradiabetes Diabetes umumnya ditandai dengan tubuh tidak memproduksi cukup insulin atau tidak mampu menggunakan insulin yang dibuat seefektif yang dibutuhkan."
   ]
  },
  {
   "cell_type": "markdown",
   "metadata": {},
   "source": [
    "### **Tujuan Proyek** : \n",
    "\n",
    "Membangun model klasifikasi diabetes terbaik sebagai upaya deteksi dini terhadap penyakit diabetes menggunakan Model Support Vector Machine. Dengan menganalisa kumpulan data kasus diabetes, model ini akan mempelajari pola agar dapat membangun prediksi yang akurat sehingga memungkinkan tenaga kesehatan profesional untuk mengidentifikasi pasien diabetes."
   ]
  },
  {
   "cell_type": "markdown",
   "metadata": {},
   "source": [
    "## DATA UNDERSTANDING\n",
    "---"
   ]
  },
  {
   "cell_type": "markdown",
   "metadata": {},
   "source": [
    "Tahap Data Understanding merupakan tahap dimana kita perlu memahami data yang akan diolah. Adapun hal - hal yang perlu dilakukan nantinya untuk memahami dataset ini, yakni\n",
    "1. Tentang data, mencakup :\n",
    "    * Pengumpulan dataset\n",
    "    * Pengenalan singkat mengenai data yang akan diolah\n",
    "2. Mendeskripsikan data, mencakup :\n",
    "    * analisa tipe data\n",
    "    * deskripsi fitur\n",
    "3. Eksplorasi data, mencakup :\n",
    "    * Visualisasi data\n",
    "    * Skoring fitur\n",
    "4. Identifikasi kualitas data :\n",
    "    * Identifikasi missing valye setiap fitur atau kolom\n",
    "    * Identifikasi data duplikat\n",
    "    * Identifikasi outlier (data aneh)\n",
    "    * Identifikasi jumlah data (proporsi data perkelas -untuk mengetahui balancing dataset atau keseimbangan data per kelas)"
   ]
  },
  {
   "cell_type": "markdown",
   "metadata": {},
   "source": [
    "### **About Data -----------------------------------------------------------------------------------------------------------------------------**"
   ]
  },
  {
   "cell_type": "markdown",
   "metadata": {},
   "source": [
    "#### **Pengumpulan Dataset**"
   ]
  },
  {
   "cell_type": "markdown",
   "metadata": {},
   "source": [
    "Untuk proyek ini, digunakan csv dari kumpulan data yang tersedia di Kaggle untuk tahun 2015. Fitur-fitur ini berupa pertanyaan yang diajukan langsung kepada peserta, atau variabel yang dihitung berdasarkan tanggapan masing-masing peserta. Dataset ini berisi kumpulan tanggapan dari lebih dari 400.000 orang Amerika mengenai perilaku berisiko terkait kesehatan, kondisi kesehatan kronis, dan penggunaan layanan pencegahan di setiap tahun. Hal ini telah dilakukan setiap tahun sejak tahun 1984. Survei dilakukan oleh CDC setiap tahun dengan menggunakan metode BRFSS. Sistem Pengawasan Faktor Risiko Perilaku (BRFSS) adalah survei telepon terkait kesehatan yang dikumpulkan setiap tahun oleh CDC. \n",
    "\n",
    "\n",
    "  \n",
    "Referensi data bisa diakses [disini](https://archive.ics.uci.edu/dataset/891/cdc+diabetes+health+indicators)."
   ]
  },
  {
   "cell_type": "code",
   "execution_count": 1,
   "metadata": {},
   "outputs": [
    {
     "data": {
      "text/html": [
       "<div>\n",
       "<style scoped>\n",
       "    .dataframe tbody tr th:only-of-type {\n",
       "        vertical-align: middle;\n",
       "    }\n",
       "\n",
       "    .dataframe tbody tr th {\n",
       "        vertical-align: top;\n",
       "    }\n",
       "\n",
       "    .dataframe thead th {\n",
       "        text-align: right;\n",
       "    }\n",
       "</style>\n",
       "<table border=\"1\" class=\"dataframe\">\n",
       "  <thead>\n",
       "    <tr style=\"text-align: right;\">\n",
       "      <th></th>\n",
       "      <th>Diabetes_012</th>\n",
       "      <th>HighBP</th>\n",
       "      <th>HighChol</th>\n",
       "      <th>CholCheck</th>\n",
       "      <th>BMI</th>\n",
       "      <th>Smoker</th>\n",
       "      <th>Stroke</th>\n",
       "      <th>HeartDiseaseorAttack</th>\n",
       "      <th>PhysActivity</th>\n",
       "      <th>Fruits</th>\n",
       "      <th>...</th>\n",
       "      <th>AnyHealthcare</th>\n",
       "      <th>NoDocbcCost</th>\n",
       "      <th>GenHlth</th>\n",
       "      <th>MentHlth</th>\n",
       "      <th>PhysHlth</th>\n",
       "      <th>DiffWalk</th>\n",
       "      <th>Sex</th>\n",
       "      <th>Age</th>\n",
       "      <th>Education</th>\n",
       "      <th>Income</th>\n",
       "    </tr>\n",
       "  </thead>\n",
       "  <tbody>\n",
       "    <tr>\n",
       "      <th>0</th>\n",
       "      <td>0.0</td>\n",
       "      <td>1.0</td>\n",
       "      <td>1.0</td>\n",
       "      <td>1.0</td>\n",
       "      <td>40.0</td>\n",
       "      <td>1.0</td>\n",
       "      <td>0.0</td>\n",
       "      <td>0.0</td>\n",
       "      <td>0.0</td>\n",
       "      <td>0.0</td>\n",
       "      <td>...</td>\n",
       "      <td>1.0</td>\n",
       "      <td>0.0</td>\n",
       "      <td>5.0</td>\n",
       "      <td>18.0</td>\n",
       "      <td>15.0</td>\n",
       "      <td>1.0</td>\n",
       "      <td>0.0</td>\n",
       "      <td>9.0</td>\n",
       "      <td>4.0</td>\n",
       "      <td>3.0</td>\n",
       "    </tr>\n",
       "    <tr>\n",
       "      <th>1</th>\n",
       "      <td>0.0</td>\n",
       "      <td>0.0</td>\n",
       "      <td>0.0</td>\n",
       "      <td>0.0</td>\n",
       "      <td>25.0</td>\n",
       "      <td>1.0</td>\n",
       "      <td>0.0</td>\n",
       "      <td>0.0</td>\n",
       "      <td>1.0</td>\n",
       "      <td>0.0</td>\n",
       "      <td>...</td>\n",
       "      <td>0.0</td>\n",
       "      <td>1.0</td>\n",
       "      <td>3.0</td>\n",
       "      <td>0.0</td>\n",
       "      <td>0.0</td>\n",
       "      <td>0.0</td>\n",
       "      <td>0.0</td>\n",
       "      <td>7.0</td>\n",
       "      <td>6.0</td>\n",
       "      <td>1.0</td>\n",
       "    </tr>\n",
       "    <tr>\n",
       "      <th>2</th>\n",
       "      <td>0.0</td>\n",
       "      <td>1.0</td>\n",
       "      <td>1.0</td>\n",
       "      <td>1.0</td>\n",
       "      <td>28.0</td>\n",
       "      <td>0.0</td>\n",
       "      <td>0.0</td>\n",
       "      <td>0.0</td>\n",
       "      <td>0.0</td>\n",
       "      <td>1.0</td>\n",
       "      <td>...</td>\n",
       "      <td>1.0</td>\n",
       "      <td>1.0</td>\n",
       "      <td>5.0</td>\n",
       "      <td>30.0</td>\n",
       "      <td>30.0</td>\n",
       "      <td>1.0</td>\n",
       "      <td>0.0</td>\n",
       "      <td>9.0</td>\n",
       "      <td>4.0</td>\n",
       "      <td>8.0</td>\n",
       "    </tr>\n",
       "    <tr>\n",
       "      <th>3</th>\n",
       "      <td>0.0</td>\n",
       "      <td>1.0</td>\n",
       "      <td>0.0</td>\n",
       "      <td>1.0</td>\n",
       "      <td>27.0</td>\n",
       "      <td>0.0</td>\n",
       "      <td>0.0</td>\n",
       "      <td>0.0</td>\n",
       "      <td>1.0</td>\n",
       "      <td>1.0</td>\n",
       "      <td>...</td>\n",
       "      <td>1.0</td>\n",
       "      <td>0.0</td>\n",
       "      <td>2.0</td>\n",
       "      <td>0.0</td>\n",
       "      <td>0.0</td>\n",
       "      <td>0.0</td>\n",
       "      <td>0.0</td>\n",
       "      <td>11.0</td>\n",
       "      <td>3.0</td>\n",
       "      <td>6.0</td>\n",
       "    </tr>\n",
       "    <tr>\n",
       "      <th>4</th>\n",
       "      <td>0.0</td>\n",
       "      <td>1.0</td>\n",
       "      <td>1.0</td>\n",
       "      <td>1.0</td>\n",
       "      <td>24.0</td>\n",
       "      <td>0.0</td>\n",
       "      <td>0.0</td>\n",
       "      <td>0.0</td>\n",
       "      <td>1.0</td>\n",
       "      <td>1.0</td>\n",
       "      <td>...</td>\n",
       "      <td>1.0</td>\n",
       "      <td>0.0</td>\n",
       "      <td>2.0</td>\n",
       "      <td>3.0</td>\n",
       "      <td>0.0</td>\n",
       "      <td>0.0</td>\n",
       "      <td>0.0</td>\n",
       "      <td>11.0</td>\n",
       "      <td>5.0</td>\n",
       "      <td>4.0</td>\n",
       "    </tr>\n",
       "  </tbody>\n",
       "</table>\n",
       "<p>5 rows × 22 columns</p>\n",
       "</div>"
      ],
      "text/plain": [
       "   Diabetes_012  HighBP  HighChol  CholCheck   BMI  Smoker  Stroke  \\\n",
       "0           0.0     1.0       1.0        1.0  40.0     1.0     0.0   \n",
       "1           0.0     0.0       0.0        0.0  25.0     1.0     0.0   \n",
       "2           0.0     1.0       1.0        1.0  28.0     0.0     0.0   \n",
       "3           0.0     1.0       0.0        1.0  27.0     0.0     0.0   \n",
       "4           0.0     1.0       1.0        1.0  24.0     0.0     0.0   \n",
       "\n",
       "   HeartDiseaseorAttack  PhysActivity  Fruits  ...  AnyHealthcare  \\\n",
       "0                   0.0           0.0     0.0  ...            1.0   \n",
       "1                   0.0           1.0     0.0  ...            0.0   \n",
       "2                   0.0           0.0     1.0  ...            1.0   \n",
       "3                   0.0           1.0     1.0  ...            1.0   \n",
       "4                   0.0           1.0     1.0  ...            1.0   \n",
       "\n",
       "   NoDocbcCost  GenHlth  MentHlth  PhysHlth  DiffWalk  Sex   Age  Education  \\\n",
       "0          0.0      5.0      18.0      15.0       1.0  0.0   9.0        4.0   \n",
       "1          1.0      3.0       0.0       0.0       0.0  0.0   7.0        6.0   \n",
       "2          1.0      5.0      30.0      30.0       1.0  0.0   9.0        4.0   \n",
       "3          0.0      2.0       0.0       0.0       0.0  0.0  11.0        3.0   \n",
       "4          0.0      2.0       3.0       0.0       0.0  0.0  11.0        5.0   \n",
       "\n",
       "   Income  \n",
       "0     3.0  \n",
       "1     1.0  \n",
       "2     8.0  \n",
       "3     6.0  \n",
       "4     4.0  \n",
       "\n",
       "[5 rows x 22 columns]"
      ]
     },
     "execution_count": 1,
     "metadata": {},
     "output_type": "execute_result"
    }
   ],
   "source": [
    "import pandas as pd\n",
    "\n",
    "data = pd.read_csv('dataset.csv')\n",
    "data.head(5)"
   ]
  },
  {
   "cell_type": "markdown",
   "metadata": {},
   "source": [
    "#### **Seputar dataset**"
   ]
  },
  {
   "cell_type": "code",
   "execution_count": 2,
   "metadata": {},
   "outputs": [
    {
     "name": "stdout",
     "output_type": "stream",
     "text": [
      "Banyaknya data :  253680\n"
     ]
    }
   ],
   "source": [
    "print(\"Banyaknya data : \", data.shape[0])"
   ]
  },
  {
   "cell_type": "markdown",
   "metadata": {},
   "source": [
    "Dataset ini memiliki 253680 data dengan rincian pelabelan sebagai berikut :  \n",
    "<table>\n",
    "    <tr>\n",
    "    <td>Label</td>\n",
    "    <td>Meaning</td>\n",
    "    <td>Total</td>\n",
    "    </tr>\n",
    "    <tr>\n",
    "    <td>0.0</td>\n",
    "    <td>Tidak Diabetes</td>\n",
    "    <td>213703 data</td>\n",
    "    </tr>\n",
    "    <tr>\n",
    "    <td>1.0</td>\n",
    "    <td>Prediabetes</td>\n",
    "    <td>4631</td>\n",
    "    </tr>\n",
    "    <tr>\n",
    "    <td>2.0</td>\n",
    "    <td>Diabetes</td>\n",
    "    <td>35356</td>\n",
    "    </tr>\n",
    "</table>\n",
    "\n",
    "Terjadi perbedaan yang signifikan pada jumlah data antar label sehingga perlu diseimbangkan terlebih dahulu"
   ]
  },
  {
   "cell_type": "markdown",
   "metadata": {},
   "source": [
    "#### **Ciri yang tersedia sebagai acuan dalam mengklasifikasi diabetes**"
   ]
  },
  {
   "cell_type": "code",
   "execution_count": 3,
   "metadata": {},
   "outputs": [
    {
     "name": "stdout",
     "output_type": "stream",
     "text": [
      "Banyaknya kolom :  22\n"
     ]
    }
   ],
   "source": [
    "print(\"Banyaknya kolom : \", data.shape[1])"
   ]
  },
  {
   "cell_type": "markdown",
   "metadata": {},
   "source": [
    "**Untuk mendeteksi diabetes masyarakat Amerika, dapat dilihat dari ciri-ciri sebagai berikut :**\n",
    "1. `Diabetes_binary (label)` : jenis diabetes\n",
    "2. `HighBP (tekanan darah)` : Apakah anda mempunyai tekanan darah tinggi?\n",
    "3. `HighChol (kolesterol)` : Apakah anda mengidap kolesterol?\n",
    "4. `Cholcheck (cek kolesterol)/5tahun` : Apakah dalam 5 tahun terakhir anda pernah cek gula darah?\n",
    "5. `BMI (Body Mass Index)` : perkiraan lemak tubuh yang didasarkan pada berat dan tinggi badan. Rumusnya sebagai berikut.  \n",
    "$$ BMI = \\frac{berat badan (kg)}{tinggi badan (m^2)} $$\n",
    "\n",
    "6. `Smoker (perokok)` : Apakah anda merokok? Setidaknya 100 batang selama hidup.\n",
    "7. `Stroke` : Apakah anda punya riwayat penyakit stroke?\n",
    "8. `HeartDiseaseorAttack (penyakit jantung)` : Apakah anda punya riwayat penyakit jantung? Baik penyakit jantung koroner akut atau serangan jantung.\n",
    "9. `PhysActivity (riwayat aktivitas)` : Apakah anda sering beraktivitas dalam 30 hari terakhir (tidak termasuk pekerjaan) ?\n",
    "10. `Fruits (konsumsi buah/hari)` : Apakah anda mengonsumsi satu atau lebih buah setiap hari?\n",
    "11. `Veggies (konsumsi sayur/hari)` : Apakah anda mengonsumsi satu atau lebih sayur setiap hari?\n",
    "12. `HvyAlcoholConsump (konsumsi alkohol)` : Apakah anda mengonsumsi alkohol? (Untuk laki laki dewasa : 14 gelas per minggu dan perempuan dewasa : 7 gelas per minggu)\n",
    "13. `AnyHealthcare (memiliki layanan kesehatan)` : Apakah anda memiliki cakupan layanan kesehatan? Contohnya asuransi kesehatan, dan lainnya.\n",
    "14. `NoDocbcCost (perlu ke dokter namun terhalang biaya)` : Apakah dalam 12 bulan terakhir ini anda perlu ke dokter tetapi tidak bisa karena biaya?\n",
    "15. `GenHlth (range kesehatan diri sendiri)`\n",
    "16. `MentHlth (kesehatan mental)` : Bagaimana kondisi mental anda dalam 30 hari terakhir? Meliputi stres, depresi dan masalah dengan emosi.\n",
    "17. `PhysHlth (kesehatan fisik)` : Bagaimana kesehatan fisik anda dalam 30 hari terakhir? Mecakup penyakit dan cedera fisik.\n",
    "18. `Diffwalk (kesulitan berjalan atau menaiki tangga)` : Apakah anda memiliki kesulitas untuk berjalan atau menaiki tangga?\n",
    "19. `Sex (jenis kelamin)`\n",
    "20. `Age (usia)`\n",
    "21. `Education (tingkat pendidikan)`\n",
    "22. `Income (penghasilan)`"
   ]
  },
  {
   "cell_type": "markdown",
   "metadata": {},
   "source": [
    "### **Mendeskripsikan Data -----------------------------------------------------------------------------------------------------------------**"
   ]
  },
  {
   "cell_type": "code",
   "execution_count": 4,
   "metadata": {},
   "outputs": [
    {
     "data": {
      "text/plain": [
       "Index(['Diabetes_012', 'HighBP', 'HighChol', 'CholCheck', 'BMI', 'Smoker',\n",
       "       'Stroke', 'HeartDiseaseorAttack', 'PhysActivity', 'Fruits', 'Veggies',\n",
       "       'HvyAlcoholConsump', 'AnyHealthcare', 'NoDocbcCost', 'GenHlth',\n",
       "       'MentHlth', 'PhysHlth', 'DiffWalk', 'Sex', 'Age', 'Education',\n",
       "       'Income'],\n",
       "      dtype='object')"
      ]
     },
     "execution_count": 4,
     "metadata": {},
     "output_type": "execute_result"
    }
   ],
   "source": [
    "data.columns"
   ]
  },
  {
   "cell_type": "markdown",
   "metadata": {},
   "source": [
    "#### **Analisa Tipe data**"
   ]
  },
  {
   "cell_type": "markdown",
   "metadata": {},
   "source": [
    "Dalam analisa data, terdapat beberapa tipe data yang sering ditemukan. Pemahaman tipe data ini penting karena berbagai jenis analisis statistik dan pemrosesan data dapat memerlukan pendekatan yang berbeda tergantung pada jenis data yang digunakan. Misalnya, untuk data ordinal, metode pengurutan dan perbandingan tingkat mungkin lebih tepat daripada untuk data nominal. Sedangkan untuk data interval dan rasio, operasi matematika seperti penambahan, pengurangan, dan perbandingan proporsi bisa diterapkan"
   ]
  },
  {
   "cell_type": "markdown",
   "metadata": {},
   "source": [
    "**Berikut Macam - Macam Data yang ada pada data ini.**   \n",
    "\n",
    "1. Tipe nominal adalah kategori di mana data tidak memiliki urutan atau tingkatan tertentu.    \n",
    "    - memiliki value 1 yang melambangkan ya dan 0 yang melambangkan tidak.\n",
    "        > Pada data ini mencakup fitur : *'HighBP', 'HighChol', 'CholCheck', 'Stroke', 'HeartDiseaseorAttack', 'PhysActivity', 'Fruits', 'Veggies', 'HvyAlcoholConsump', 'AnyHealthcare', 'NoDocbcCost', 'DiffWalk'* \n",
    "    - memiliki value perempuan dan laki laki.\n",
    "        > yakni pada fitur *'Sex'*\n",
    "2. Tipe rentang atau rasio \n",
    "    > yakni pada fitur *'MentHlth', 'PhysHlth', 'GenHlth', 'Age' dan 'Income'*\n",
    "3. Tipe interval\n",
    "    > yakni pada fitur *'BMI'*\n",
    "4. Tipe ordinal adalah kategori dimana data memiliki nilai-nilai yang memiliki urutan atau tingkatan tetapi selisih antara nilai-nilainya tidak memiliki interpretasi yang bermakna atau seragam.\n",
    "    > yakni pada fitur *'Education'*"
   ]
  },
  {
   "cell_type": "markdown",
   "metadata": {},
   "source": [
    "#### **Deskripsi Fitur**"
   ]
  },
  {
   "cell_type": "markdown",
   "metadata": {},
   "source": [
    "1. `Diabetes_binary (label)` : jenis - jenis pelabelan diabetes\n",
    "   \n",
    "   > 0 : no diabetes  \n",
    "   > 1 : prediabetes  \n",
    "   > 2 : diabetes\n",
    "\n",
    "2. `HighBP (tekanan darah)` : Apakah anda mempunyai tekanan darah tinggi?\n",
    "\n",
    "   > 0 : tidak  \n",
    "   > 1 : tinggi\n",
    "\n",
    "3. `HighChol (kolesterol)` : Apakah anda mengidap kolesterol?\n",
    "\n",
    "   > 0 : tidak  \n",
    "   > 1 : tinggi\n",
    "\n",
    "4. `Cholcheck (cek kolesterol)/5tahun` : Apakah dalam 5 tahun terakhir anda pernah cek gula darah?\n",
    "\n",
    "   > 0 : tidak  \n",
    "   > 1 : ya\n",
    "\n",
    "5. `BMI (Body Mass Index)` : perkiraan lemak tubuh yang didasarkan pada berat dan tinggi badan\n",
    "    \n",
    "6. `Smoker (perokok)` : Apakah anda merokok? Setidaknya 100 batang selama hidup.\n",
    "\n",
    "   > 0 : tidak  \n",
    "   > 1 : ya\n",
    "\n",
    "7. `Stroke` : Apakah anda punya riwayat penyakit stroke?\n",
    "\n",
    "   > 0 : tidak  \n",
    "   > 1 : ya\n",
    "\n",
    "8. `HeartDiseaseorAttack (penyakit jantung)` : Apakah anda punya riwayat penyakit jantung? Baik penyakit jantung koroner akut atau serangan jantung.\n",
    "\n",
    "   > 0 : tidak  \n",
    "   > 1 : ya\n",
    "\n",
    "\n",
    "9. `PhysActivity (riwayat aktivitas)` : Apakah anda sering beraktivitas dalam 30 hari terakhir (tidak termasuk pekerjaan) ?\n",
    "\n",
    "   > 0 : tidak  \n",
    "   > 1 : ya\n",
    "\n",
    "10. `Fruits (konsumsi buah/hari)` : Apakah anda mengonsumsi satu atau lebih buah setiap hari?\n",
    "\n",
    "      > 0 : tidak  \n",
    "      > 1 : ya\n",
    "\n",
    "11. `Veggies (konsumsi sayur/hari)` : Apakah anda mengonsumsi satu atau lebih sayur setiap hari?\n",
    "\n",
    "      > 0 : tidak  \n",
    "      > 1 : ya\n",
    "\n",
    "12. `HvyAlcoholConsump (konsumsi alkohol)` : Apakah anda mengonsumsi alkohol? (Untuk laki laki dewasa : 14 gelas per minggu dan perempuan dewasa : 7 gelas per minggu)\n",
    "\n",
    "      > 0 : tidak  \n",
    "      > 1 : ya\n",
    "\n",
    "13. `AnyHealthcare (memiliki layanan kesehatan)` : Apakah anda memiliki cakupan layanan kesehatan? Contohnya asuransi kesehatan, dan lainnya.\n",
    "\n",
    "      > 0 : tidak  \n",
    "      > 1 : ya\n",
    "\n",
    "14. `NoDocbcCost (perlu ke dokter namun terhalang biaya)` : Apakah dalam 12 bulan terakhir ini anda perlu ke dokter tetapi tidak bisa karena biaya?\n",
    "\n",
    "      > 0 : tidak  \n",
    "      > 1 : ya\n",
    "\n",
    "15. `GenHlth (range kesehatan diri sendiri)`\n",
    "\n",
    "      > 1 : excellent : sangat baik sekali  \n",
    "      > 2 : very good : sangat baik  \n",
    "      > 3 : good : baik  \n",
    "      > 4 : fair : cukup  \n",
    "      > 5 : poor : buruk  \n",
    "\n",
    "16. `MentHlth (kesehatan mental)` : Bagaimana kondisi mental anda dalam 30 hari terakhir? Meliputi stres, depresi dan masalah dengan emosi.\n",
    "\n",
    "17. `PhysHlth (kesehatan fisik)` : Bagaimana kesehatan fisik anda dalam 30 hari terakhir? Mecakup penyakit dan cedera fisik.\n",
    "\n",
    "18. `Diffwalk (kesulitan berjalan atau menaiki tangga)` : Apakah anda memiliki kesulitas untuk berjalan atau menaiki tangga?\n",
    "\n",
    "      > 0 : tidak  \n",
    "      > 1 : ya\n",
    "\n",
    "19. `Sex (jenis kelamin)`\n",
    "\n",
    "      > 0 : perempuan  \n",
    "      > 1 : laki - laki\n",
    "\n",
    "20. `Age (usia)`\n",
    "\n",
    "      > 1 : 18 - 24  \n",
    "      > ...  \n",
    "      > 9 : 60 - 64  \n",
    "      > ...  \n",
    "      > 13 : >= 80\n",
    "\n",
    "21. `Education (tingkat pendidikan)`\n",
    "\n",
    "      > 1 : tidak bersekolah / TK  \n",
    "      > 2 : kelas 1 - 8    \n",
    "      > ...\n",
    "\n",
    "22. `Income (penghasilan)`\n",
    "\n",
    "      >1 : <$10.000  \n",
    "      >...  \n",
    "      >5 : <$35.000  \n",
    "      >...  \n",
    "      >8 : >= 75.000"
   ]
  },
  {
   "cell_type": "markdown",
   "metadata": {},
   "source": [
    "### **Eksplorasi Data -------------------------------------------------------------------------------------------------------------------------**"
   ]
  },
  {
   "cell_type": "markdown",
   "metadata": {},
   "source": [
    "#### **Visualisasi Data**"
   ]
  },
  {
   "cell_type": "markdown",
   "metadata": {},
   "source": [
    "Visualisasi data dilakukan untuk memudahkan kita memahami data. Melalui visualisasi data pula kita akan memperoleh informasi sebaran nilai dari dataset ini"
   ]
  },
  {
   "cell_type": "code",
   "execution_count": 5,
   "metadata": {},
   "outputs": [
    {
     "data": {
      "text/plain": [
       "<function matplotlib.pyplot.show(close=None, block=None)>"
      ]
     },
     "execution_count": 5,
     "metadata": {},
     "output_type": "execute_result"
    },
    {
     "data": {
      "image/png": "[encoded data removed]",
      "text/plain": [
       "<Figure size 1008x1008 with 25 Axes>"
      ]
     },
     "metadata": {
      "needs_background": "light"
     },
     "output_type": "display_data"
    }
   ],
   "source": [
    "import matplotlib.pyplot as plt\n",
    "\n",
    "data.hist(figsize=(14,14))\n",
    "plt.show"
   ]
  },
  {
   "cell_type": "markdown",
   "metadata": {},
   "source": [
    "#### **Skoring Fitur**"
   ]
  },
  {
   "cell_type": "markdown",
   "metadata": {},
   "source": [
    "Dengan melakukan skoring fitur, kita akan mengetahui yang mana fitur yang penting dan yang tidak. Hal ini dikarenakan tidak semua fitur dapat dijadikan ciri untuk melakukan klasifikasi. Dengan menentukan beberapa ciri terbaik akan menghasilkan akurasi yang sama atau lebih baik dibandingkan dengan menggunakan semua ciri serta menghemat waktu komputasi.  \n",
    "\n",
    "Skor informasi menggunakan *mutual_info_classif* berguna untuk mengevaluasi seberapa informatif suatu fitur terhadap variabel target. Skoring fitur menggunakan *mutual_info_classif* dapat mengukur seberapa banyak informasi dari variabel independen (fitur) yang terdapat pada variabel dependen (target) dalam dataset. Secara spesifik, skor ini menunjukkan seberapa banyak informasi dari suatu fitur yang dapat membantu dalam memprediksi target. **Semakin tinggi skornya, semakin informatif fitur tersebut terhadap variabel target.**"
   ]
  },
  {
   "cell_type": "code",
   "execution_count": 6,
   "metadata": {},
   "outputs": [
    {
     "name": "stdout",
     "output_type": "stream",
     "text": [
      "Fitur 0: HighBP, Skor: 0.05561642060048522\n",
      "Fitur 1: HighChol, Skor: 0.04080845417959589\n",
      "Fitur 2: CholCheck, Skor: 0.04737894748629201\n",
      "Fitur 3: BMI, Skor: 0.03291845338548338\n",
      "Fitur 4: Smoker, Skor: 0.024555254743968025\n",
      "Fitur 5: Stroke, Skor: 0.004573978879843121\n",
      "Fitur 6: HeartDiseaseorAttack, Skor: 0.014765794164263157\n",
      "Fitur 7: PhysActivity, Skor: 0.04840779338819412\n",
      "Fitur 8: Fruits, Skor: 0.03944836922004358\n",
      "Fitur 9: Veggies, Skor: 0.04057396831701987\n",
      "Fitur 10: HvyAlcoholConsump, Skor: 0.0030044162205593583\n",
      "Fitur 11: AnyHealthcare, Skor: 0.050059625630720195\n",
      "Fitur 12: NoDocbcCost, Skor: 0.0003571847390562155\n",
      "Fitur 13: GenHlth, Skor: 0.056215714817982265\n",
      "Fitur 14: MentHlth, Skor: 0.003938005920602006\n",
      "Fitur 15: PhysHlth, Skor: 0.014458343564895282\n",
      "Fitur 16: DiffWalk, Skor: 0.02352030361344415\n",
      "Fitur 17: Sex, Skor: 0.023150274174181584\n",
      "Fitur 18: Age, Skor: 0.025031181390540613\n",
      "Fitur 19: Education, Skor: 0.023418730412688715\n",
      "Fitur 20: Income, Skor: 0.022843036373604964\n"
     ]
    }
   ],
   "source": [
    "from sklearn.feature_selection import SelectKBest, mutual_info_classif\n",
    "\n",
    "# memisahkan kolom fitur dan target\n",
    "fitur = data.drop(columns=['Diabetes_012'], axis =1)\n",
    "target = data['Diabetes_012']\n",
    "\n",
    "# Buat objek SelectKBest dengan mutual_info_classif sebagai fungsi skor\n",
    "k_best = SelectKBest(score_func=mutual_info_classif, k='all')  # 'all' berarti akan mempertahankan semua fitur\n",
    "\n",
    "# Hitung skor fitur\n",
    "k_best.fit(fitur, target)\n",
    "scores = k_best.scores_\n",
    "\n",
    "# Dapatkan nama fitur dari kolom data Anda\n",
    "fitur_names = fitur.columns\n",
    "\n",
    "# Tampilkan skor fitur berserta namanya\n",
    "for i, (score, fitur_name) in enumerate(zip(scores, fitur_names)):\n",
    "    print(f\"Fitur {i}: {fitur_name}, Skor: {score}\")"
   ]
  },
  {
   "cell_type": "code",
   "execution_count": 7,
   "metadata": {},
   "outputs": [
    {
     "data": {
      "image/png": "[encoded data removed]",
      "text/plain": [
       "<Figure size 1296x432 with 1 Axes>"
      ]
     },
     "metadata": {
      "needs_background": "light"
     },
     "output_type": "display_data"
    }
   ],
   "source": [
    "import matplotlib.pyplot as plt\n",
    "\n",
    "# Tampilkan skor fitur dalam grafik\n",
    "plt.figure(figsize=(18, 6))\n",
    "plt.bar(fitur_names, scores)\n",
    "plt.xlabel(\"Nama Fitur\")\n",
    "plt.ylabel(\"Skor Fitur\")\n",
    "plt.title(\"Skor Fitur SelectKBest\")\n",
    "plt.xticks(rotation=90)\n",
    "plt.show()"
   ]
  },
  {
   "cell_type": "markdown",
   "metadata": {},
   "source": [
    "### **Mengidentifikasi Kualitas Data** --------------------------------------------------------------------------------------------------------"
   ]
  },
  {
   "cell_type": "markdown",
   "metadata": {},
   "source": [
    "#### **Identifikasi missing value**"
   ]
  },
  {
   "cell_type": "markdown",
   "metadata": {},
   "source": [
    "Missing Value adalah hilangnya satu atau beberapa data dalam suatu atribut. Berikut penyebab umum dari adanya *missing value*. \n",
    "1. Kesalahan manusia saat memasukkan data, contohnya penyalinan data yang tidak lengkap atau salah pengetikan\n",
    "2. Terdapat beberapa pertanyaan tidak diisi oleh responden\n",
    "3. Ketika data dihapus dan tidak diunduh dengan benar dari sumbernya\n",
    "4. serta Tidak semua atribut sesuai dengan semua narasumber, contohnya atribut pendapat yang tidak relevan untuk siswa yang tidak bekerja\n",
    "\n",
    "Penanganan Missing Value : Jika atribut tersebut memiliki banyak missing value, maka atribut tersebut perlu dihapus dari dataset. Namun jika hanya terdapat beberapa data yang missing value bisa dilakukan drop dari baris yang memiliki missing value atau mengisinya dengan rata - rata nilai pada atribut yang bersangkutan.   \n",
    "\n",
    "Contoh adanya missing value :\n",
    "\n",
    "<table>\n",
    "    <tr>\n",
    "    <td>fitur1</td>\n",
    "    <td>fitur2</td>\n",
    "    <td>fitur3</td>\n",
    "    </tr>\n",
    "    <tr>\n",
    "    <td>1</td>\n",
    "    <td>10</td>\n",
    "    <td>5</td>\n",
    "    </tr>\n",
    "    <tr>\n",
    "    <td></td>\n",
    "    <td>12</td>\n",
    "    <td>5</td>\n",
    "    </tr>\n",
    "    <tr>\n",
    "    <td></td>\n",
    "    <td>14</td>\n",
    "    <td>5</td>\n",
    "    </tr>\n",
    "    <tr>\n",
    "    <td>2</td>\n",
    "    <td>16</td>\n",
    "    <td>5</td>\n",
    "    </tr>\n",
    "    <tr>\n",
    "    <td></td>\n",
    "    <td>18</td>\n",
    "    <td></td>\n",
    "    </tr>\n",
    "    <tr>\n",
    "    <td></td>\n",
    "    <td>20</td>\n",
    "    <td>5</td>\n",
    "    </tr>\n",
    "</table>  \n",
    "\n",
    "Dari tabel di atas fitur 1 memiliki banyak sekali missing value sehingga atribut fitur 1 perlu dihilangkan dan bisa dianggap tidak mencirikan data.   \n",
    "\n",
    "Untuk melakukan pengecekan missing value, maka digunakan fungsi *isna()*"
   ]
  },
  {
   "cell_type": "code",
   "execution_count": 8,
   "metadata": {},
   "outputs": [
    {
     "name": "stdout",
     "output_type": "stream",
     "text": [
      "Apakah ada nilai yang hilang dalam setiap kolom:\n",
      "Diabetes_012            False\n",
      "HighBP                  False\n",
      "HighChol                False\n",
      "CholCheck               False\n",
      "BMI                     False\n",
      "Smoker                  False\n",
      "Stroke                  False\n",
      "HeartDiseaseorAttack    False\n",
      "PhysActivity            False\n",
      "Fruits                  False\n",
      "Veggies                 False\n",
      "HvyAlcoholConsump       False\n",
      "AnyHealthcare           False\n",
      "NoDocbcCost             False\n",
      "GenHlth                 False\n",
      "MentHlth                False\n",
      "PhysHlth                False\n",
      "DiffWalk                False\n",
      "Sex                     False\n",
      "Age                     False\n",
      "Education               False\n",
      "Income                  False\n",
      "dtype: bool\n"
     ]
    }
   ],
   "source": [
    "# mengecek apakah ada nilai yang hilang dalam setiap kolom\n",
    "missing_values = data.isna().any()\n",
    "\n",
    "# menampilkan hasil\n",
    "print(\"Apakah ada nilai yang hilang dalam setiap kolom:\")\n",
    "print(missing_values)"
   ]
  },
  {
   "cell_type": "markdown",
   "metadata": {},
   "source": [
    "Noted : tidak ada *missing value* pada data"
   ]
  },
  {
   "cell_type": "markdown",
   "metadata": {},
   "source": [
    "#### **Identifikasi Duplikat Data**"
   ]
  },
  {
   "cell_type": "markdown",
   "metadata": {},
   "source": [
    "Duplikat data merupakan suatu kondisi dimana suatu baris memiliki nilai yang sama persis di semua kolom pada baris lainnya. Adanya data yang redundan (berulang) dapat mengganggu hasil analisis dan menghasilkan akurasi yang tidak akurat. Untuk mengecek adanya duplikat data, maka digunakan fungsi *dupicated()*"
   ]
  },
  {
   "cell_type": "code",
   "execution_count": 9,
   "metadata": {},
   "outputs": [
    {
     "name": "stdout",
     "output_type": "stream",
     "text": [
      "Jumlah data yang duplikat: 23899\n"
     ]
    }
   ],
   "source": [
    "jumlah_duplikat = data.duplicated().sum()\n",
    "\n",
    "print(\"Jumlah data yang duplikat:\", jumlah_duplikat)"
   ]
  },
  {
   "cell_type": "markdown",
   "metadata": {},
   "source": [
    "Note : terdapat puluhan ribu baris data yang sama, sehingga data tersebut harus dihilangkan untuk menghindari adanya data yang redundan."
   ]
  },
  {
   "cell_type": "markdown",
   "metadata": {},
   "source": [
    "#### **Identifikasi Outlier**"
   ]
  },
  {
   "cell_type": "markdown",
   "metadata": {},
   "source": [
    "Outlier adalah nilai yang jauh berbeda dari nilai lainnya dalam kumpulan data. Istilah outlier juga sering dikenal dengan nilai ekstrem serta tidak mencerminkan fenomena yang sebenarnya.  \n",
    "\n",
    "Contoh :  \n",
    "Di suatu sekolah A, biaya SPP ditetapkan berdasarkan gaji rata - rata orang tua masing - masing murid. Berikut rincian data yang diperoleh. \n",
    "\n",
    "<table>\n",
    "    <tr>\n",
    "    <td>Nama</td>\n",
    "    <td>Penghasilan Orang Tua</td>\n",
    "    </tr>\n",
    "    <tr>\n",
    "    <td>siswa 1</td>\n",
    "    <td>Rp. 500.000</td>\n",
    "    </tr>\n",
    "    <tr>\n",
    "    <td>siswa 2</td>\n",
    "    <td>Rp. 750.000</td>\n",
    "    </tr>\n",
    "    <tr>\n",
    "    <td>siswa 3</td>\n",
    "    <td>Rp. 500.000</td>\n",
    "    </tr>\n",
    "    <td>siswa 4</td>\n",
    "    <td>Rp. 450.000</td>\n",
    "    <tr>\n",
    "    <td>siswa 5</td>\n",
    "    <td>Rp. 5.000.000</td>\n",
    "    </tr>\n",
    "</table>\n",
    "\n",
    "Dari data tersebut ditemukan satu outlier yakni pada data siswa 5 yang mana penghasilan orangtuanya bisa mencapai Rp.5.000.000 per bulan. Jika penetapan biaya SPP tidak memperharikan outlier maka tiap siswa perlu membayar spp sebesar Rp. 1.440.000 yang tentu saja akan memberatkan semua siswa selain siswa 5.  \n",
    "\n",
    "\n",
    "Untuk mengidentidikasi outlier, maka digunakan modul LOF (LocalOutlierFactor). LOF dipilih karena modul ini memungkinkan untuk menemukan titik-titik yang relatif jauh dari sebagian besar data lainnya, yang kemudian dianggap sebagai outlier."
   ]
  },
  {
   "cell_type": "code",
   "execution_count": 10,
   "metadata": {},
   "outputs": [
    {
     "name": "stdout",
     "output_type": "stream",
     "text": [
      "Banyaknya outlier :  13616\n",
      "Sisa data :  240064\n"
     ]
    }
   ],
   "source": [
    "from sklearn.neighbors import LocalOutlierFactor\n",
    "\n",
    "# Menggunakan Local Outlier Factor\n",
    "lof = LocalOutlierFactor(n_neighbors=5)\n",
    "outlier_scores = lof.fit_predict(data)\n",
    "\n",
    "outliers = data[outlier_scores == -1]\n",
    "print(\"Banyaknya outlier : \", outliers.shape[0])\n",
    "\n",
    "data_bersih = data[outlier_scores != -1]\n",
    "print(\"Sisa data : \", data_bersih.shape[0])"
   ]
  },
  {
   "cell_type": "markdown",
   "metadata": {},
   "source": [
    "Note : data memiliki belasan ribu outlier dan data tersebut perlu dihilangkan"
   ]
  },
  {
   "cell_type": "markdown",
   "metadata": {},
   "source": [
    "#### **Identifikasi Jumlah Data**"
   ]
  },
  {
   "cell_type": "markdown",
   "metadata": {},
   "source": [
    "Dengan mengetahui proporsi data untuk masing - masing label, kita bisa mengetahui seberapa berbeda jumlah data di tiap - tiap label. Jika jumlah data antar label memiliki perbedaan yang sangat jauh maka akan mempengaruhi akurasi serta hasil klasifikasi sehingga nantinya perlu dilakukan penyeimbangan jumlah data di tiap labelnya."
   ]
  },
  {
   "cell_type": "code",
   "execution_count": 11,
   "metadata": {},
   "outputs": [
    {
     "name": "stdout",
     "output_type": "stream",
     "text": [
      "Jumlah data pada tiap target :\n",
      "0.0    213703\n",
      "2.0     35346\n",
      "1.0      4631\n",
      "Name: Diabetes_012, dtype: int64\n"
     ]
    }
   ],
   "source": [
    "dataa = data['Diabetes_012'].value_counts()\n",
    "\n",
    "print(\"Jumlah data pada tiap target :\")\n",
    "print(dataa)"
   ]
  },
  {
   "cell_type": "markdown",
   "metadata": {},
   "source": [
    "Note : terjadi ketimpangan data yang signifikan sehingga perlu dilakukan balancing data agar proporsi data tidak condong hanya pada satu atau kelas lainnya"
   ]
  },
  {
   "cell_type": "markdown",
   "metadata": {},
   "source": [
    "### **Hasil Analisa Pada Data Understanding :**\n",
    "\n",
    "1. Data tidak memiliki _missing values_\n",
    "2. Data memiliki 23899 data redundan\n",
    "3. Data memiliki 13616 outlier\n",
    "4. Perbedaan jumlah atau proporsi data antar label sangat jauh\n",
    "5. Hasil skoring fitur masih menggunakan data kotor sehingga perlu difilter kembali "
   ]
  },
  {
   "cell_type": "markdown",
   "metadata": {},
   "source": [
    "## DATA PREPROCESSING\n",
    "---"
   ]
  },
  {
   "cell_type": "markdown",
   "metadata": {},
   "source": [
    "Setelah memahami data, akan dilakukan tahap preprocessing untuk menangani masalah pada data yang sudah didefinisikan pada data understanding, yakni.\n",
    "1. Menghapus Data Duplikat\n",
    "2. Menghapus Outlier\n",
    "3. Menyeimbangkan proporsi data tiap target\n",
    "\n",
    "Setelah data siap, akan dilakukan skoring fitur kembali."
   ]
  },
  {
   "cell_type": "code",
   "execution_count": 12,
   "metadata": {},
   "outputs": [
    {
     "data": {
      "text/html": [
       "<div>\n",
       "<style scoped>\n",
       "    .dataframe tbody tr th:only-of-type {\n",
       "        vertical-align: middle;\n",
       "    }\n",
       "\n",
       "    .dataframe tbody tr th {\n",
       "        vertical-align: top;\n",
       "    }\n",
       "\n",
       "    .dataframe thead th {\n",
       "        text-align: right;\n",
       "    }\n",
       "</style>\n",
       "<table border=\"1\" class=\"dataframe\">\n",
       "  <thead>\n",
       "    <tr style=\"text-align: right;\">\n",
       "      <th></th>\n",
       "      <th>Diabetes_012</th>\n",
       "      <th>HighBP</th>\n",
       "      <th>HighChol</th>\n",
       "      <th>CholCheck</th>\n",
       "      <th>BMI</th>\n",
       "      <th>Smoker</th>\n",
       "      <th>Stroke</th>\n",
       "      <th>HeartDiseaseorAttack</th>\n",
       "      <th>PhysActivity</th>\n",
       "      <th>Fruits</th>\n",
       "      <th>...</th>\n",
       "      <th>AnyHealthcare</th>\n",
       "      <th>NoDocbcCost</th>\n",
       "      <th>GenHlth</th>\n",
       "      <th>MentHlth</th>\n",
       "      <th>PhysHlth</th>\n",
       "      <th>DiffWalk</th>\n",
       "      <th>Sex</th>\n",
       "      <th>Age</th>\n",
       "      <th>Education</th>\n",
       "      <th>Income</th>\n",
       "    </tr>\n",
       "  </thead>\n",
       "  <tbody>\n",
       "    <tr>\n",
       "      <th>0</th>\n",
       "      <td>0.0</td>\n",
       "      <td>1.0</td>\n",
       "      <td>1.0</td>\n",
       "      <td>1.0</td>\n",
       "      <td>40.0</td>\n",
       "      <td>1.0</td>\n",
       "      <td>0.0</td>\n",
       "      <td>0.0</td>\n",
       "      <td>0.0</td>\n",
       "      <td>0.0</td>\n",
       "      <td>...</td>\n",
       "      <td>1.0</td>\n",
       "      <td>0.0</td>\n",
       "      <td>5.0</td>\n",
       "      <td>18.0</td>\n",
       "      <td>15.0</td>\n",
       "      <td>1.0</td>\n",
       "      <td>0.0</td>\n",
       "      <td>9.0</td>\n",
       "      <td>4.0</td>\n",
       "      <td>3.0</td>\n",
       "    </tr>\n",
       "    <tr>\n",
       "      <th>1</th>\n",
       "      <td>0.0</td>\n",
       "      <td>0.0</td>\n",
       "      <td>0.0</td>\n",
       "      <td>0.0</td>\n",
       "      <td>25.0</td>\n",
       "      <td>1.0</td>\n",
       "      <td>0.0</td>\n",
       "      <td>0.0</td>\n",
       "      <td>1.0</td>\n",
       "      <td>0.0</td>\n",
       "      <td>...</td>\n",
       "      <td>0.0</td>\n",
       "      <td>1.0</td>\n",
       "      <td>3.0</td>\n",
       "      <td>0.0</td>\n",
       "      <td>0.0</td>\n",
       "      <td>0.0</td>\n",
       "      <td>0.0</td>\n",
       "      <td>7.0</td>\n",
       "      <td>6.0</td>\n",
       "      <td>1.0</td>\n",
       "    </tr>\n",
       "    <tr>\n",
       "      <th>2</th>\n",
       "      <td>0.0</td>\n",
       "      <td>1.0</td>\n",
       "      <td>1.0</td>\n",
       "      <td>1.0</td>\n",
       "      <td>28.0</td>\n",
       "      <td>0.0</td>\n",
       "      <td>0.0</td>\n",
       "      <td>0.0</td>\n",
       "      <td>0.0</td>\n",
       "      <td>1.0</td>\n",
       "      <td>...</td>\n",
       "      <td>1.0</td>\n",
       "      <td>1.0</td>\n",
       "      <td>5.0</td>\n",
       "      <td>30.0</td>\n",
       "      <td>30.0</td>\n",
       "      <td>1.0</td>\n",
       "      <td>0.0</td>\n",
       "      <td>9.0</td>\n",
       "      <td>4.0</td>\n",
       "      <td>8.0</td>\n",
       "    </tr>\n",
       "    <tr>\n",
       "      <th>3</th>\n",
       "      <td>0.0</td>\n",
       "      <td>1.0</td>\n",
       "      <td>0.0</td>\n",
       "      <td>1.0</td>\n",
       "      <td>27.0</td>\n",
       "      <td>0.0</td>\n",
       "      <td>0.0</td>\n",
       "      <td>0.0</td>\n",
       "      <td>1.0</td>\n",
       "      <td>1.0</td>\n",
       "      <td>...</td>\n",
       "      <td>1.0</td>\n",
       "      <td>0.0</td>\n",
       "      <td>2.0</td>\n",
       "      <td>0.0</td>\n",
       "      <td>0.0</td>\n",
       "      <td>0.0</td>\n",
       "      <td>0.0</td>\n",
       "      <td>11.0</td>\n",
       "      <td>3.0</td>\n",
       "      <td>6.0</td>\n",
       "    </tr>\n",
       "    <tr>\n",
       "      <th>4</th>\n",
       "      <td>0.0</td>\n",
       "      <td>1.0</td>\n",
       "      <td>1.0</td>\n",
       "      <td>1.0</td>\n",
       "      <td>24.0</td>\n",
       "      <td>0.0</td>\n",
       "      <td>0.0</td>\n",
       "      <td>0.0</td>\n",
       "      <td>1.0</td>\n",
       "      <td>1.0</td>\n",
       "      <td>...</td>\n",
       "      <td>1.0</td>\n",
       "      <td>0.0</td>\n",
       "      <td>2.0</td>\n",
       "      <td>3.0</td>\n",
       "      <td>0.0</td>\n",
       "      <td>0.0</td>\n",
       "      <td>0.0</td>\n",
       "      <td>11.0</td>\n",
       "      <td>5.0</td>\n",
       "      <td>4.0</td>\n",
       "    </tr>\n",
       "  </tbody>\n",
       "</table>\n",
       "<p>5 rows × 22 columns</p>\n",
       "</div>"
      ],
      "text/plain": [
       "   Diabetes_012  HighBP  HighChol  CholCheck   BMI  Smoker  Stroke  \\\n",
       "0           0.0     1.0       1.0        1.0  40.0     1.0     0.0   \n",
       "1           0.0     0.0       0.0        0.0  25.0     1.0     0.0   \n",
       "2           0.0     1.0       1.0        1.0  28.0     0.0     0.0   \n",
       "3           0.0     1.0       0.0        1.0  27.0     0.0     0.0   \n",
       "4           0.0     1.0       1.0        1.0  24.0     0.0     0.0   \n",
       "\n",
       "   HeartDiseaseorAttack  PhysActivity  Fruits  ...  AnyHealthcare  \\\n",
       "0                   0.0           0.0     0.0  ...            1.0   \n",
       "1                   0.0           1.0     0.0  ...            0.0   \n",
       "2                   0.0           0.0     1.0  ...            1.0   \n",
       "3                   0.0           1.0     1.0  ...            1.0   \n",
       "4                   0.0           1.0     1.0  ...            1.0   \n",
       "\n",
       "   NoDocbcCost  GenHlth  MentHlth  PhysHlth  DiffWalk  Sex   Age  Education  \\\n",
       "0          0.0      5.0      18.0      15.0       1.0  0.0   9.0        4.0   \n",
       "1          1.0      3.0       0.0       0.0       0.0  0.0   7.0        6.0   \n",
       "2          1.0      5.0      30.0      30.0       1.0  0.0   9.0        4.0   \n",
       "3          0.0      2.0       0.0       0.0       0.0  0.0  11.0        3.0   \n",
       "4          0.0      2.0       3.0       0.0       0.0  0.0  11.0        5.0   \n",
       "\n",
       "   Income  \n",
       "0     3.0  \n",
       "1     1.0  \n",
       "2     8.0  \n",
       "3     6.0  \n",
       "4     4.0  \n",
       "\n",
       "[5 rows x 22 columns]"
      ]
     },
     "execution_count": 12,
     "metadata": {},
     "output_type": "execute_result"
    }
   ],
   "source": [
    "import pandas as pd\n",
    "\n",
    "data = pd.read_csv('dataset.csv')\n",
    "data.head(5)"
   ]
  },
  {
   "cell_type": "code",
   "execution_count": 13,
   "metadata": {},
   "outputs": [
    {
     "name": "stdout",
     "output_type": "stream",
     "text": [
      "Banyaknya data :  253680\n",
      "Banyaknya kolom :  22\n"
     ]
    }
   ],
   "source": [
    "# Rincian dataset (banyak data dan kolom)\n",
    "\n",
    "print(\"Banyaknya data : \", data.shape[0])\n",
    "print(\"Banyaknya kolom : \", data.shape[1])"
   ]
  },
  {
   "cell_type": "markdown",
   "metadata": {},
   "source": [
    "### **Menghapus Data Duplikat**"
   ]
  },
  {
   "cell_type": "markdown",
   "metadata": {},
   "source": [
    "Duplikat data merupakan suatu kondisi dimana suatu baris memiliki nilai yang sama persis di semua kolom pada baris lainnya. Adanya data yang redundan (berulang) dapat mengganggu hasil analisis dan menghasilkan akurasi yang tidak akurat.\n",
    "\n",
    "Contoh : \n",
    "\n",
    "<table>\n",
    "    <tr>\n",
    "    <td>No.</td>\n",
    "    <td>Berat Badan (kg)</td>\n",
    "    <td>Tinggi Badan (cm)</td>\n",
    "    <td>Usia</td>\n",
    "    </tr>\n",
    "    <tr>\n",
    "    <td>1</td>\n",
    "    <td>25</td>\n",
    "    <td>150</td>\n",
    "    <td>15</td>\n",
    "    </tr>\n",
    "    <tr>\n",
    "    <td>2</td>\n",
    "    <td>25</td>\n",
    "    <td>100</td>\n",
    "    <td>10</td>\n",
    "    </tr>\n",
    "    <tr>\n",
    "    <td>3</td>\n",
    "    <td>30</td>\n",
    "    <td>125</td>\n",
    "    <td>10</td>\n",
    "    </tr>\n",
    "    <tr>\n",
    "    <td>4</td>\n",
    "    <td>25</td>\n",
    "    <td>150</td>\n",
    "    <td>15</td>\n",
    "    </tr>\n",
    "</table>\n",
    "\n",
    "Data pada baris ke 1 dan baris ke 4 memiliki value yang sama sehingga nantinya data pada baris ke 4 akan dihapus. Untuk menghapus data duplikat digunakan fungsi *drop_duplicates()*"
   ]
  },
  {
   "cell_type": "code",
   "execution_count": 14,
   "metadata": {},
   "outputs": [
    {
     "name": "stdout",
     "output_type": "stream",
     "text": [
      "Banyaknya sisa data :  229781\n"
     ]
    }
   ],
   "source": [
    "# Menghapus data yang duplikat\n",
    "data_bersih = data.drop_duplicates()\n",
    "\n",
    "print(\"Banyaknya sisa data : \", data_bersih.shape[0])"
   ]
  },
  {
   "cell_type": "markdown",
   "metadata": {},
   "source": [
    "### **Menghapus Outlier**"
   ]
  },
  {
   "cell_type": "markdown",
   "metadata": {},
   "source": [
    "Outlier adalah nilai yang jauh berbeda dari nilai lainnya dalam kumpulan data. Istilah outlier juga sering dikenal dengan nilai ekstrem serta tidak mencerminkan fenomena yang sebenarnya.  \n",
    "\n",
    "Contoh :  \n",
    "Di suatu sekolah A, biaya SPP ditetapkan berdasarkan gaji rata - rata orang tua masing - masing murid. Berikut rincian data yang diperoleh. \n",
    "\n",
    "<table>\n",
    "    <tr>\n",
    "    <td>Nama</td>\n",
    "    <td>Penghasilan Orang Tua</td>\n",
    "    </tr>\n",
    "    <tr>\n",
    "    <td>siswa 1</td>\n",
    "    <td>Rp. 500.000</td>\n",
    "    </tr>\n",
    "    <tr>\n",
    "    <td>siswa 2</td>\n",
    "    <td>Rp. 750.000</td>\n",
    "    </tr>\n",
    "    <tr>\n",
    "    <td>siswa 3</td>\n",
    "    <td>Rp. 500.000</td>\n",
    "    </tr>\n",
    "    <td>siswa 4</td>\n",
    "    <td>Rp. 450.000</td>\n",
    "    <tr>\n",
    "    <td>siswa 5</td>\n",
    "    <td>Rp. 5.000.000</td>\n",
    "    </tr>\n",
    "</table>\n",
    "\n",
    "Dari data tersebut ditemukan satu outlier yakni pada data siswa 5 yang mana penghasilan orangtuanya bisa mencapai Rp.5.000.000 per bulan. Jika penetapan biaya SPP tidak memperharikan outlier maka tiap siswa perlu membayar spp sebesar Rp. 1.440.000 yang tentu saja akan memberatkan semua siswa selain siswa 5. Oleh karena itu, data yang memiliki outlier harus dikeluarkan dari dataset"
   ]
  },
  {
   "cell_type": "code",
   "execution_count": 15,
   "metadata": {},
   "outputs": [
    {
     "name": "stdout",
     "output_type": "stream",
     "text": [
      "Sisa data :  229247\n"
     ]
    }
   ],
   "source": [
    "from sklearn.neighbors import LocalOutlierFactor\n",
    "\n",
    "# Menggunakan Local Outlier Factor\n",
    "lof = LocalOutlierFactor(n_neighbors=5)\n",
    "outlier_scores = lof.fit_predict(data_bersih)\n",
    "\n",
    "data_oke = data_bersih[outlier_scores != -1]\n",
    "print(\"Sisa data : \", data_oke.shape[0])"
   ]
  },
  {
   "cell_type": "markdown",
   "metadata": {},
   "source": [
    "### **Menyeimbangkan Data Tiap Target**"
   ]
  },
  {
   "cell_type": "markdown",
   "metadata": {},
   "source": [
    "Dengan mengetahui proporsi data untuk masing - masing label, kita bisa mengetahui seberapa berbeda jumlah data di tiap - tiap label. Jika jumlah data antar label memiliki perbedaan yang sangat jauh maka akan mempengaruhi akurasi serta hasil klasifikasi sehingga nantinya perlu dilakukan penyeimbangan jumlah data di tiap labelnya."
   ]
  },
  {
   "cell_type": "markdown",
   "metadata": {},
   "source": [
    "#### **Proporsi Jumlah Data Di Tiap Label**"
   ]
  },
  {
   "cell_type": "code",
   "execution_count": 16,
   "metadata": {},
   "outputs": [
    {
     "data": {
      "text/plain": [
       "0.0    189655\n",
       "2.0     34999\n",
       "1.0      4593\n",
       "Name: Diabetes_012, dtype: int64"
      ]
     },
     "execution_count": 16,
     "metadata": {},
     "output_type": "execute_result"
    }
   ],
   "source": [
    "fitur = data_oke.drop(columns=['Diabetes_012'])\n",
    "target = data_oke['Diabetes_012']\n",
    "\n",
    "target.value_counts()"
   ]
  },
  {
   "cell_type": "markdown",
   "metadata": {},
   "source": [
    "##### **Visualisasi banyaknya data di tiap label**"
   ]
  },
  {
   "cell_type": "code",
   "execution_count": 17,
   "metadata": {},
   "outputs": [
    {
     "data": {
      "image/png": "[encoded data removed]",
      "text/plain": [
       "<Figure size 432x288 with 1 Axes>"
      ]
     },
     "metadata": {},
     "output_type": "display_data"
    }
   ],
   "source": [
    "import matplotlib.pyplot as plt\n",
    "\n",
    "value_counts = target.value_counts()\n",
    "\n",
    "plt.pie(value_counts, labels=value_counts.index, autopct='%.2f')\n",
    "plt.title('Distribusi Kelas Target')\n",
    "plt.axis('equal')\n",
    "plt.show()"
   ]
  },
  {
   "cell_type": "markdown",
   "metadata": {},
   "source": [
    "#### **Penyeimbangan jumlah atau proporsi data**"
   ]
  },
  {
   "cell_type": "markdown",
   "metadata": {},
   "source": [
    "Perbandingan proporsi data tiap target sangat jauh sehingga untuk menghemat waktu komputasi output antar target akan diseimbangkan menggunakan metode UnderSampling. Undersampling adalah teknik untuk mengurangi jumlah data pada kelas mayoritas sehingga jumlahnya setara dengan kelas minoritas."
   ]
  },
  {
   "cell_type": "code",
   "execution_count": 18,
   "metadata": {},
   "outputs": [
    {
     "name": "stdout",
     "output_type": "stream",
     "text": [
      "Jumlah sampel setelah diseimbangkan : \n",
      "0.0    4593\n",
      "1.0    4593\n",
      "2.0    4593\n",
      "Name: Diabetes_012, dtype: int64\n"
     ]
    }
   ],
   "source": [
    "from imblearn.under_sampling import RandomUnderSampler\n",
    "\n",
    "smote = RandomUnderSampler()\n",
    "fitur_seimbang, target_seimbang = smote.fit_resample(fitur, target)\n",
    "\n",
    "print(\"Jumlah sampel setelah diseimbangkan : \")\n",
    "print(target_seimbang.value_counts())"
   ]
  },
  {
   "cell_type": "markdown",
   "metadata": {},
   "source": [
    "##### **Visualisasi banyaknya data di tiap label**"
   ]
  },
  {
   "cell_type": "code",
   "execution_count": 19,
   "metadata": {},
   "outputs": [
    {
     "data": {
      "image/png": "[encoded data removed]",
      "text/plain": [
       "<Figure size 720x360 with 2 Axes>"
      ]
     },
     "metadata": {},
     "output_type": "display_data"
    }
   ],
   "source": [
    "import matplotlib.pyplot as plt\n",
    "\n",
    "fig, axs = plt.subplots(1, 2, figsize=(10, 5))\n",
    "\n",
    "# Plot distribusi kelas target sebelum penyeimbangan\n",
    "target_tidak_seimbang = target.value_counts()\n",
    "axs[0].pie(target_tidak_seimbang, labels=target_tidak_seimbang.index, autopct='%.2f')\n",
    "axs[0].set_title('Distribusi Kelas Target Sebelum Diseimbangkan')\n",
    "axs[0].axis('equal')\n",
    "\n",
    "# Plot distribusi kelas target setelah penyeimbangan\n",
    "target_sudah_seimbang = target_seimbang.value_counts()\n",
    "axs[1].pie(target_sudah_seimbang, labels=target_sudah_seimbang.index, autopct='%.2f')\n",
    "axs[1].set_title('Distribusi Kelas Target Yang Telah Diseimbangkan')\n",
    "axs[1].axis('equal')\n",
    "\n",
    "plt.tight_layout()\n",
    "plt.show()"
   ]
  },
  {
   "cell_type": "markdown",
   "metadata": {},
   "source": [
    "### **Hasil Preprocessing Data**"
   ]
  },
  {
   "cell_type": "markdown",
   "metadata": {},
   "source": [
    "simpan data yang telah siap diproses pada file csv baru"
   ]
  },
  {
   "cell_type": "code",
   "execution_count": 20,
   "metadata": {},
   "outputs": [],
   "source": [
    "import pandas as pd\n",
    "\n",
    "# Membuat DataFrame dari fitur dan target yang telah seimbang\n",
    "data_seimbang = pd.concat([fitur_seimbang, target_seimbang], axis=1)\n",
    "\n",
    "# Menyimpan DataFrame ke dalam file CSV\n",
    "data_seimbang.to_csv('data_seimbang.csv', index=False)"
   ]
  },
  {
   "cell_type": "markdown",
   "metadata": {},
   "source": [
    "### **Feature Selection**"
   ]
  },
  {
   "cell_type": "markdown",
   "metadata": {},
   "source": [
    "Dengan melakukan skoring fitur, kita akan mengetahui yang mana fitur yang penting dan yang tidak. Hal ini dikarenakan tidak semua fitur dapat dijadikan ciri untuk melakukan klasifikasi. Dengan menentukan beberapa ciri terbaik akan menghasilkan akurasi yang sama atau lebih baik dibandingkan dengan menggunakan semua ciri serta menghemat waktu komputasi.  \n",
    "\n",
    "Skor informasi menggunakan *mutual_info_classif* berguna untuk mengevaluasi seberapa informatif suatu fitur terhadap variabel target. Skoring fitur menggunakan *mutual_info_classif* dapat mengukur seberapa banyak informasi dari variabel independen (fitur) yang terdapat pada variabel dependen (target) dalam dataset. Secara spesifik, skor ini menunjukkan seberapa banyak informasi dari suatu fitur yang dapat membantu dalam memprediksi target. **Semakin tinggi skornya, semakin informatif fitur tersebut terhadap variabel target.**"
   ]
  },
  {
   "cell_type": "code",
   "execution_count": 21,
   "metadata": {},
   "outputs": [
    {
     "name": "stdout",
     "output_type": "stream",
     "text": [
      "Fitur 0: HighBP, Skor: 0.05298941377206301\n",
      "Fitur 1: HighChol, Skor: 0.026110868508256946\n",
      "Fitur 2: CholCheck, Skor: 0.021066958323086915\n",
      "Fitur 3: BMI, Skor: 0.03401837691320697\n",
      "Fitur 4: Smoker, Skor: 0.0\n",
      "Fitur 5: Stroke, Skor: 0.01638973546803868\n",
      "Fitur 6: HeartDiseaseorAttack, Skor: 0.007520890486566678\n",
      "Fitur 7: PhysActivity, Skor: 0.017681842250051982\n",
      "Fitur 8: Fruits, Skor: 0.0021597572569778123\n",
      "Fitur 9: Veggies, Skor: 0.0009839386952887885\n",
      "Fitur 10: HvyAlcoholConsump, Skor: 0.0016632531945526274\n",
      "Fitur 11: AnyHealthcare, Skor: 0.004099109470156126\n",
      "Fitur 12: NoDocbcCost, Skor: 0.0\n",
      "Fitur 13: GenHlth, Skor: 0.06214324638910962\n",
      "Fitur 14: MentHlth, Skor: 0.006581550243329293\n",
      "Fitur 15: PhysHlth, Skor: 0.005834598860465334\n",
      "Fitur 16: DiffWalk, Skor: 0.023852073775164406\n",
      "Fitur 17: Sex, Skor: 0.003094841371461765\n",
      "Fitur 18: Age, Skor: 0.02779639956043578\n",
      "Fitur 19: Education, Skor: 0.00813985540041351\n",
      "Fitur 20: Income, Skor: 0.023164293310583117\n"
     ]
    }
   ],
   "source": [
    "from sklearn.feature_selection import SelectKBest, mutual_info_classif\n",
    "\n",
    "# Buat objek SelectKBest dengan mutual_info_classif sebagai fungsi skor\n",
    "k_best = SelectKBest(score_func=mutual_info_classif, k='all')  # 'all' berarti akan mempertahankan semua fitur\n",
    "\n",
    "# Hitung skor fitur\n",
    "k_best.fit(fitur_seimbang, target_seimbang)\n",
    "scores = k_best.scores_\n",
    "\n",
    "# Dapatkan nama fitur dari kolom data Anda\n",
    "fitur_names = fitur.columns\n",
    "\n",
    "# Tampilkan skor fitur berserta namanya\n",
    "for i, (score, fitur_name) in enumerate(zip(scores, fitur_names)):\n",
    "    print(f\"Fitur {i}: {fitur_name}, Skor: {score}\")"
   ]
  },
  {
   "cell_type": "code",
   "execution_count": 22,
   "metadata": {},
   "outputs": [
    {
     "data": {
      "image/png": "[encoded data removed]",
      "text/plain": [
       "<Figure size 1296x432 with 1 Axes>"
      ]
     },
     "metadata": {
      "needs_background": "light"
     },
     "output_type": "display_data"
    }
   ],
   "source": [
    "import matplotlib.pyplot as plt\n",
    "\n",
    "# Tampilkan skor fitur dalam grafik\n",
    "plt.figure(figsize=(18, 6))\n",
    "plt.bar(fitur_names, scores)\n",
    "plt.xlabel(\"Nama Fitur\")\n",
    "plt.ylabel(\"Skor Fitur\")\n",
    "plt.title(\"Skor Fitur SelectKBest\")\n",
    "plt.xticks(rotation=90)\n",
    "plt.show()"
   ]
  },
  {
   "cell_type": "markdown",
   "metadata": {},
   "source": [
    "## MODELLING\n",
    "---"
   ]
  },
  {
   "cell_type": "markdown",
   "metadata": {},
   "source": [
    "Note : Model Support Vector Machine dipilih karena memiliki tingkat akurasi yang lebih baik dibandingkan model lainnya. Selengkapnya [disini](https://drive.google.com/drive/folders/1ZfD0-Xe3Cz6LK1wlpbXLkgDIbGQuCq2A?usp=sharing)."
   ]
  },
  {
   "cell_type": "markdown",
   "metadata": {},
   "source": [
    "### **Load Dataset --------------------------------------------------------------------------------------------------------------------------**"
   ]
  },
  {
   "cell_type": "code",
   "execution_count": 2,
   "metadata": {},
   "outputs": [
    {
     "data": {
      "text/html": [
       "<div>\n",
       "<style scoped>\n",
       "    .dataframe tbody tr th:only-of-type {\n",
       "        vertical-align: middle;\n",
       "    }\n",
       "\n",
       "    .dataframe tbody tr th {\n",
       "        vertical-align: top;\n",
       "    }\n",
       "\n",
       "    .dataframe thead th {\n",
       "        text-align: right;\n",
       "    }\n",
       "</style>\n",
       "<table border=\"1\" class=\"dataframe\">\n",
       "  <thead>\n",
       "    <tr style=\"text-align: right;\">\n",
       "      <th></th>\n",
       "      <th>HighBP</th>\n",
       "      <th>BMI</th>\n",
       "      <th>GenHlth</th>\n",
       "      <th>Age</th>\n",
       "      <th>Diabetes_012</th>\n",
       "    </tr>\n",
       "  </thead>\n",
       "  <tbody>\n",
       "    <tr>\n",
       "      <th>0</th>\n",
       "      <td>0.0</td>\n",
       "      <td>22.0</td>\n",
       "      <td>2.0</td>\n",
       "      <td>7.0</td>\n",
       "      <td>0.0</td>\n",
       "    </tr>\n",
       "    <tr>\n",
       "      <th>1</th>\n",
       "      <td>0.0</td>\n",
       "      <td>26.0</td>\n",
       "      <td>2.0</td>\n",
       "      <td>3.0</td>\n",
       "      <td>0.0</td>\n",
       "    </tr>\n",
       "    <tr>\n",
       "      <th>2</th>\n",
       "      <td>0.0</td>\n",
       "      <td>23.0</td>\n",
       "      <td>3.0</td>\n",
       "      <td>11.0</td>\n",
       "      <td>0.0</td>\n",
       "    </tr>\n",
       "    <tr>\n",
       "      <th>3</th>\n",
       "      <td>0.0</td>\n",
       "      <td>25.0</td>\n",
       "      <td>2.0</td>\n",
       "      <td>13.0</td>\n",
       "      <td>0.0</td>\n",
       "    </tr>\n",
       "    <tr>\n",
       "      <th>4</th>\n",
       "      <td>1.0</td>\n",
       "      <td>20.0</td>\n",
       "      <td>3.0</td>\n",
       "      <td>13.0</td>\n",
       "      <td>0.0</td>\n",
       "    </tr>\n",
       "  </tbody>\n",
       "</table>\n",
       "</div>"
      ],
      "text/plain": [
       "   HighBP   BMI  GenHlth   Age  Diabetes_012\n",
       "0     0.0  22.0      2.0   7.0           0.0\n",
       "1     0.0  26.0      2.0   3.0           0.0\n",
       "2     0.0  23.0      3.0  11.0           0.0\n",
       "3     0.0  25.0      2.0  13.0           0.0\n",
       "4     1.0  20.0      3.0  13.0           0.0"
      ]
     },
     "execution_count": 2,
     "metadata": {},
     "output_type": "execute_result"
    }
   ],
   "source": [
    "import pandas as pd\n",
    "\n",
    "dataset = pd.read_csv('dataset_baru.csv')\n",
    "dataset.head(5)"
   ]
  },
  {
   "cell_type": "code",
   "execution_count": 3,
   "metadata": {},
   "outputs": [
    {
     "name": "stdout",
     "output_type": "stream",
     "text": [
      "Banyaknya data :  13419\n",
      "Banyaknya kolom :  5\n"
     ]
    }
   ],
   "source": [
    "print(\"Banyaknya data : \", dataset.shape[0])\n",
    "print(\"Banyaknya kolom : \", dataset.shape[1])"
   ]
  },
  {
   "cell_type": "markdown",
   "metadata": {},
   "source": [
    "### **Split Dataset ---------------------------------------------------------------------------------------------------------------------------**"
   ]
  },
  {
   "cell_type": "code",
   "execution_count": 4,
   "metadata": {},
   "outputs": [],
   "source": [
    "from sklearn.model_selection import train_test_split\n",
    "\n",
    "# memisahkan kolom fitur dan target\n",
    "fitur = dataset.drop(columns=['Diabetes_012'], axis =1)\n",
    "target = dataset['Diabetes_012']\n",
    "\n",
    "# melakukan pembagian dataset, dataset dibagi menjadi 80% data training dan 20% data testing\n",
    "fitur_train, fitur_test, target_train, target_test = train_test_split(fitur, target, test_size = 0.2, random_state=42)"
   ]
  },
  {
   "cell_type": "code",
   "execution_count": 5,
   "metadata": {},
   "outputs": [
    {
     "name": "stdout",
     "output_type": "stream",
     "text": [
      "Banyaknya fitur atau ciri yang digunakan :  4\n",
      "Banyaknya data latih :  10735\n",
      "Banyaknya data testing :  2684\n"
     ]
    }
   ],
   "source": [
    "print(\"Banyaknya fitur atau ciri yang digunakan : \", fitur_train.shape[1])\n",
    "print(\"Banyaknya data latih : \", fitur_train.shape[0])\n",
    "print(\"Banyaknya data testing : \", fitur_test.shape[0])"
   ]
  },
  {
   "cell_type": "code",
   "execution_count": 6,
   "metadata": {},
   "outputs": [
    {
     "data": {
      "text/plain": [
       "1.0    3594\n",
       "2.0    3588\n",
       "0.0    3553\n",
       "Name: Diabetes_012, dtype: int64"
      ]
     },
     "execution_count": 6,
     "metadata": {},
     "output_type": "execute_result"
    }
   ],
   "source": [
    "target_train.value_counts()"
   ]
  },
  {
   "cell_type": "code",
   "execution_count": 7,
   "metadata": {},
   "outputs": [
    {
     "data": {
      "image/png": "[encoded data removed]",
      "text/plain": [
       "<Figure size 432x288 with 1 Axes>"
      ]
     },
     "metadata": {},
     "output_type": "display_data"
    }
   ],
   "source": [
    "import matplotlib.pyplot as plt\n",
    "\n",
    "value_counts = target_train.value_counts()\n",
    "\n",
    "plt.pie(value_counts, labels=value_counts.index, autopct='%.2f')\n",
    "plt.title('Perbandingan Jumlah Data Tiap Target')\n",
    "plt.axis('equal')\n",
    "plt.show()"
   ]
  },
  {
   "cell_type": "markdown",
   "metadata": {},
   "source": [
    "### **Normalisasi Data ----------------------------------------------------------------------------------------------------------------------**"
   ]
  },
  {
   "cell_type": "markdown",
   "metadata": {},
   "source": [
    "Normalisasi data adalah proses pengubahan skala dari fitur-fitur dalam dataset sehingga setiap fitur memiliki rentang nilai yang seragam. Normalisasi data bertujuan untuk menghindari kesenjangan besar antara nilai-nilai berbeda dalam dataset serta memungkinkan model pembelajaran mesin untuk bekerja lebih baik."
   ]
  },
  {
   "cell_type": "markdown",
   "metadata": {},
   "source": [
    "Z-score normalization merupakan salah satu metode normalisasi yang mana mengubah nilai fitur ke dalam distribusi normal dengan rata-rata 0 dan standar deviasi 1. Rumusnya adalah : \n",
    "\n",
    "$$ Z = \\frac{(X−μ)}{σ} $$\n",
    "\n",
    "Keterangan :  \n",
    "* Z adalah nilai yang telah dinormalisasikan  \n",
    "* X adalah nilai asli fitur  \n",
    "* μ adalah rata-rata\n",
    "* σ adalah standar deviasi dari fitur  \n",
    "\n",
    "Rumus untuk standar deviasi sendiri sebagai berikut.  \n",
    "$$ s = \\sqrt{\\frac{\\sum_{i=1}^{n}(x_i - \\bar{x})^2}{n - 1}} $$  \n",
    "\n",
    "Contoh, disediakan data sebagai berikut. Tentukan nilai hasil normalisasinya  \n",
    "<table>\n",
    "    <tr>\n",
    "    <td>X</td>\n",
    "    <td>10</td>\n",
    "    <td>20</td>\n",
    "    <td>30</td>\n",
    "    <td>40</td>\n",
    "    <td>50</td>\n",
    "    </tr>\n",
    "    <tr>\n",
    "    <td>Z</td>\n",
    "    <td>?</td>\n",
    "    <td>?</td>\n",
    "    <td>?</td>\n",
    "    <td>?</td>\n",
    "    <td>?</td>\n",
    "    </tr>\n",
    "</table>\n",
    "\n",
    "Diketahui :\n",
    "* rata - rata\n",
    "    $$ μ = \\sqrt{\\frac{\\sum_{i=1}^{n}(x_i)}{n}} $$  \n",
    "    $$ μ = \\sqrt{\\frac{10+20+30+40+50}{5}} $$  \n",
    "    $$ μ = 30 $$  \n",
    "\n",
    "* standar deviasi\n",
    "    $$ s = \\sqrt{\\frac{\\sum_{i=1}^{n}(x_i - \\bar{x})^2}{n - 1}} $$    \n",
    "    $$ s = \\sqrt{\\frac{(10 - 30)^2 + (20 - 30)^2 + (30 - 30)^2 + (40 - 30)^2 + (50 - 30)^2 + }{5 - 1}} $$    \n",
    "    $$ s = 15.8 $$   \n",
    "\n",
    "Maka hasil normalisasinya :   \n",
    "<table>\n",
    "    <tr>\n",
    "    <td>X</td>\n",
    "    <td>10</td>\n",
    "    <td>20</td>\n",
    "    <td>30</td>\n",
    "    <td>40</td>\n",
    "    <td>50</td>\n",
    "    </tr>\n",
    "    <tr>\n",
    "    <td>Z</td>\n",
    "    <td>-1.27</td>\n",
    "    <td>-0.63</td>\n",
    "    <td>0</td>\n",
    "    <td>0.63</td>\n",
    "    <td>1.27</td>\n",
    "    </tr>\n",
    "</table>\n"
   ]
  },
  {
   "cell_type": "code",
   "execution_count": 8,
   "metadata": {},
   "outputs": [],
   "source": [
    "import pickle\n",
    "from sklearn.preprocessing import StandardScaler\n",
    "\n",
    "# menentukan lokasi file pickle akan disimpan\n",
    "path = 'zscorescaler.pkl'\n",
    "\n",
    "# membuat dan melatih objek StandardScaler\n",
    "zscore_scaler = StandardScaler()\n",
    "zscore_scaler.fit(fitur_train)\n",
    "\n",
    "# menyimpan model ke dalam file pickle\n",
    "with open(path, 'wb') as file:\n",
    "    pickle.dump(zscore_scaler, file)\n",
    "\n",
    "# memanggil kembali model normalisasi zscore dari file pickle\n",
    "with open(path, 'rb') as file:\n",
    "    zscore_scaler = pickle.load(file)\n",
    "\n",
    "# menerapkan normalisasi zscore pada data training\n",
    "zscore_training = zscore_scaler.transform(fitur_train)\n",
    "\n",
    "# menerapkan normalisasi zscore pada data testing\n",
    "zscore_testing = zscore_scaler.transform(fitur_test)"
   ]
  },
  {
   "cell_type": "code",
   "execution_count": 8,
   "metadata": {},
   "outputs": [
    {
     "data": {
      "text/html": [
       "<style>#sk-container-id-1 {color: black;background-color: white;}#sk-container-id-1 pre{padding: 0;}#sk-container-id-1 div.sk-toggleable {background-color: white;}#sk-container-id-1 label.sk-toggleable__label {cursor: pointer;display: block;width: 100%;margin-bottom: 0;padding: 0.3em;box-sizing: border-box;text-align: center;}#sk-container-id-1 label.sk-toggleable__label-arrow:before {content: \"▸\";float: left;margin-right: 0.25em;color: #696969;}#sk-container-id-1 label.sk-toggleable__label-arrow:hover:before {color: black;}#sk-container-id-1 div.sk-estimator:hover label.sk-toggleable__label-arrow:before {color: black;}#sk-container-id-1 div.sk-toggleable__content {max-height: 0;max-width: 0;overflow: hidden;text-align: left;background-color: #f0f8ff;}#sk-container-id-1 div.sk-toggleable__content pre {margin: 0.2em;color: black;border-radius: 0.25em;background-color: #f0f8ff;}#sk-container-id-1 input.sk-toggleable__control:checked~div.sk-toggleable__content {max-height: 200px;max-width: 100%;overflow: auto;}#sk-container-id-1 input.sk-toggleable__control:checked~label.sk-toggleable__label-arrow:before {content: \"▾\";}#sk-container-id-1 div.sk-estimator input.sk-toggleable__control:checked~label.sk-toggleable__label {background-color: #d4ebff;}#sk-container-id-1 div.sk-label input.sk-toggleable__control:checked~label.sk-toggleable__label {background-color: #d4ebff;}#sk-container-id-1 input.sk-hidden--visually {border: 0;clip: rect(1px 1px 1px 1px);clip: rect(1px, 1px, 1px, 1px);height: 1px;margin: -1px;overflow: hidden;padding: 0;position: absolute;width: 1px;}#sk-container-id-1 div.sk-estimator {font-family: monospace;background-color: #f0f8ff;border: 1px dotted black;border-radius: 0.25em;box-sizing: border-box;margin-bottom: 0.5em;}#sk-container-id-1 div.sk-estimator:hover {background-color: #d4ebff;}#sk-container-id-1 div.sk-parallel-item::after {content: \"\";width: 100%;border-bottom: 1px solid gray;flex-grow: 1;}#sk-container-id-1 div.sk-label:hover label.sk-toggleable__label {background-color: #d4ebff;}#sk-container-id-1 div.sk-serial::before {content: \"\";position: absolute;border-left: 1px solid gray;box-sizing: border-box;top: 0;bottom: 0;left: 50%;z-index: 0;}#sk-container-id-1 div.sk-serial {display: flex;flex-direction: column;align-items: center;background-color: white;padding-right: 0.2em;padding-left: 0.2em;position: relative;}#sk-container-id-1 div.sk-item {position: relative;z-index: 1;}#sk-container-id-1 div.sk-parallel {display: flex;align-items: stretch;justify-content: center;background-color: white;position: relative;}#sk-container-id-1 div.sk-item::before, #sk-container-id-1 div.sk-parallel-item::before {content: \"\";position: absolute;border-left: 1px solid gray;box-sizing: border-box;top: 0;bottom: 0;left: 50%;z-index: -1;}#sk-container-id-1 div.sk-parallel-item {display: flex;flex-direction: column;z-index: 1;position: relative;background-color: white;}#sk-container-id-1 div.sk-parallel-item:first-child::after {align-self: flex-end;width: 50%;}#sk-container-id-1 div.sk-parallel-item:last-child::after {align-self: flex-start;width: 50%;}#sk-container-id-1 div.sk-parallel-item:only-child::after {width: 0;}#sk-container-id-1 div.sk-dashed-wrapped {border: 1px dashed gray;margin: 0 0.4em 0.5em 0.4em;box-sizing: border-box;padding-bottom: 0.4em;background-color: white;}#sk-container-id-1 div.sk-label label {font-family: monospace;font-weight: bold;display: inline-block;line-height: 1.2em;}#sk-container-id-1 div.sk-label-container {text-align: center;}#sk-container-id-1 div.sk-container {/* jupyter's `normalize.less` sets `[hidden] { display: none; }` but bootstrap.min.css set `[hidden] { display: none !important; }` so we also need the `!important` here to be able to override the default hidden behavior on the sphinx rendered scikit-learn.org. See: https://github.com/scikit-learn/scikit-learn/issues/21755 */display: inline-block !important;position: relative;}#sk-container-id-1 div.sk-text-repr-fallback {display: none;}</style><div id=\"sk-container-id-1\" class=\"sk-top-container\"><div class=\"sk-text-repr-fallback\"><pre>StandardScaler()</pre><b>In a Jupyter environment, please rerun this cell to show the HTML representation or trust the notebook. <br />On GitHub, the HTML representation is unable to render, please try loading this page with nbviewer.org.</b></div><div class=\"sk-container\" hidden><div class=\"sk-item\"><div class=\"sk-estimator sk-toggleable\"><input class=\"sk-toggleable__control sk-hidden--visually\" id=\"sk-estimator-id-1\" type=\"checkbox\" checked><label for=\"sk-estimator-id-1\" class=\"sk-toggleable__label sk-toggleable__label-arrow\">StandardScaler</label><div class=\"sk-toggleable__content\"><pre>StandardScaler()</pre></div></div></div></div></div>"
      ],
      "text/plain": [
       "StandardScaler()"
      ]
     },
     "execution_count": 8,
     "metadata": {},
     "output_type": "execute_result"
    }
   ],
   "source": [
    "zscore_scaler"
   ]
  },
  {
   "cell_type": "markdown",
   "metadata": {},
   "source": [
    "### **Membuat model** ------------------------------------------------------------------------------------------------------------------------"
   ]
  },
  {
   "cell_type": "markdown",
   "metadata": {},
   "source": [
    "#### **Konsep Support Vector Machine**"
   ]
  },
  {
   "cell_type": "markdown",
   "metadata": {},
   "source": [
    "Support Vector Machine (SVM) adalah sebuah metode klasifikasi dalam pembelajaran mesin yang bertujuan menemukan hyperplane terbaik yang memisahkan label secara optimal dalam ruang fitur yang ada.  \n",
    "\n",
    "SVM merupakan metode yang mampu  menangani data dengan dimensi tinggi, efektif dalam kasus-kasus di mana jumlah fitur lebih besar dari jumlah sampel data, dan memiliki kinerja yang baik dalam memisahkan kelas yang berbeda secara linier maupun non-linier. Namun, metode ini sangat sensitif dalam pemilihan kernel dan parameter, serta memerlukan waktu komputasi yang cukup tinggi terutama pada dataset yang besar. \n",
    "\n",
    "Beberapa konsep penting yang perlu dipahami terkait SVM:\n",
    "1. Hyperplane: Ini adalah batas keputusan atau pembatas antara dua kelas dalam ruang fitur. Untuk masalah klasifikasi biner, hyperplane adalah garis linear yang memisahkan dua kelas. Namun, dalam dimensi yang lebih tinggi, hyperplane adalah bidang atau hiperbidang.\n",
    "2. Margin: SVM berupaya untuk menemukan hyperplane yang memiliki margin terbesar, yaitu jarak terdekat antara titik-titik dari kedua kelas dengan hyperplane.\n",
    "3. Support Vectors: Ini adalah titik-titik data yang paling dekat dengan hyperplane, yang menentukan posisi dan orientasi dari hyperplane. Support vectors adalah titik-titik yang paling kritis dalam menentukan keputusan pembelajaran mesin.\n",
    "4. Kernel Trick: Kadang-kadang, kelas tidak dapat dipisahkan secara linier di ruang dimensi rendah. Kernel trick memungkinkan SVM menangani masalah ini dengan mentransformasikan data ke dalam dimensi yang lebih tinggi di mana kelas dapat dipisahkan secara linier.\n",
    "\n",
    "\n",
    "Untuk klasifikasi biner, kita perlu menentukan hyperlane (garis pada dimensi dua atau bidang pada dimensi lebih tinggi). Jika ditemukan data pelatuhan {(x1,y1), (x2,y2), ..., (xn,yn)} di mana xi melambangkan fitur dan yi melambangkan label maka fungsi keputusan sebagai berikut.\n",
    "\n",
    "$$ f(x) = sign(w . x + b) $$  \n",
    "\n",
    "Keterangan :\n",
    "* w : vektor bobot yang sejajar dengan hyperplane\n",
    "* b : konstanta bias\n",
    "* ⋅ : produk titik antara vektor w dan x\n",
    "* sign(⋅) : fungsi tanda untuk mengembalikan 1 jika nilai positif, -1 jika nilai negatif, dan 0 jika nilainya nol.  \n",
    "\n",
    "Tujuan utama dari SVM adalah menemukan w dan b yang optimal sehingga margin antara hyperplane dan titik terdekat dari kedua kelas adalah maksimum. \n",
    "\n",
    "Namun apabila label tersebut dipisahkan secara linear, SVM menggunakan kernel untuk mentransformasi data ke dimensi yang lebih tinggi. Adapun kernel - kernel tersebut yakni.\n",
    "1. Radial Basis Function (RBF)\n",
    "2. Polynomial\n",
    "3. Sigmoid dan lainnya.\n",
    "\n",
    "Fungsi keputusannya pun menjadi :\n",
    "\n",
    "$$ f(x) = {\\sum_{i=1}^{n}(αiyiK(xi, x)+b)} $$   \n",
    "\n",
    "Keterangan : \n",
    "* K(xi,x) adalah fungsi kernel yang menghitung hasil transformasi kernel antara dua vektor xi dan x.\n",
    "* αi : koefisien dari vektor pelatihan yang dihitung selama proses pelatihan.\n",
    "* b  : konstanta bias.  \n",
    "\n",
    "Dengan memanfaatkan fungsi kernel untuk memproyeksikan data ke ruang fitur yang lebih tinggi, pemisahan yang tidak linear bisa dilakukan"
   ]
  },
  {
   "cell_type": "markdown",
   "metadata": {},
   "source": [
    "#### **Pencarian Parameter Terbaik**"
   ]
  },
  {
   "cell_type": "markdown",
   "metadata": {},
   "source": [
    "Pencarian parameter terbaik menggunakan modul GridSearchCVAdapun parameter yang akan diuji yakni.\n",
    "1. C: Parameter ini mengontrol penalti terhadap kesalahan klasifikasi pada data pelatihan. Semakin tinggi nilai C, semakin besar penalti terhadap kesalahan klasifikasi, yang cenderung menghasilkan batas keputusan yang kompleks dan mungkin terlalu menyesuaikan diri dengan data pelatihan.\n",
    "\n",
    "2. Gamma: Parameter ini mengontrol seberapa jauh pengaruh satu sampel data. Gamma yang lebih tinggi menyebabkan model memperhitungkan sampel pelatihan yang jauh, yang mungkin menghasilkan batas keputusan yang kompleks, tidak terlalu halus, dan rentan terhadap overfitting.\n",
    "\n",
    "3. Kernel: Parameter ini menentukan jenis fungsi kernel yang akan digunakan oleh algoritma SVM untuk mengubah data ke ruang fitur yang lebih tinggi. Beberapa kernel yang umum digunakan termasuk linear, polynomial, dan radial basis function (RBF). Kernel yang berbeda akan cocok untuk tipe data yang berbeda."
   ]
  },
  {
   "cell_type": "code",
   "execution_count": 11,
   "metadata": {},
   "outputs": [
    {
     "name": "stdout",
     "output_type": "stream",
     "text": [
      "Fitting 5 folds for each of 48 candidates, totalling 240 fits\n",
      "Parameter terbaik: {'C': 100, 'gamma': 1, 'kernel': 'rbf'}\n",
      "\n",
      "Akurasi model terbaik: 0.5208643815201193\n"
     ]
    }
   ],
   "source": [
    "from sklearn.model_selection import GridSearchCV\n",
    "from sklearn.svm import SVC\n",
    "\n",
    "# Tentukan parameter yang akan diuji\n",
    "param_grid = {\n",
    "    'C': [0.1, 1, 10, 100],  \n",
    "    'gamma': [1, 0.1, 0.01, 0.001], \n",
    "    'kernel': ['rbf', 'linear', 'poly']\n",
    "}\n",
    "\n",
    "# Inisialisasi model SVM\n",
    "svm = SVC()\n",
    "\n",
    "# Buat objek Grid Search dengan model SVM dan parameter grid\n",
    "grid_search = GridSearchCV(estimator=svm, param_grid=param_grid, cv=5, n_jobs=-1, verbose=2)\n",
    "\n",
    "# Lakukan grid search pada data latih\n",
    "grid_search.fit(zscore_training, target_train)\n",
    "\n",
    "# Melihat parameter terbaik yang ditemukan\n",
    "print(\"Parameter terbaik:\", grid_search.best_params_)\n",
    "\n",
    "# Evaluasi model terbaik pada data uji\n",
    "best_model = grid_search.best_estimator_\n",
    "accuracy = best_model.score(zscore_testing, target_test)\n",
    "print(\"\\nAkurasi model terbaik:\", accuracy)"
   ]
  },
  {
   "cell_type": "markdown",
   "metadata": {},
   "source": [
    "#### **Simpan Model**"
   ]
  },
  {
   "cell_type": "markdown",
   "metadata": {},
   "source": [
    "Model disimpan dalam format .pkl menggunakan modul pickle. Hal ini bertujuan agar jika sewaktu - waktu model ini akan digunakan kembali, cukup membuka model.pkl nya saja"
   ]
  },
  {
   "cell_type": "code",
   "execution_count": 12,
   "metadata": {},
   "outputs": [],
   "source": [
    "import pickle\n",
    "\n",
    "# Simpan model terbaik ke dalam file pickle\n",
    "with open('model_svm.pkl', 'wb') as file:\n",
    "    pickle.dump(best_model, file)"
   ]
  },
  {
   "cell_type": "code",
   "execution_count": 13,
   "metadata": {},
   "outputs": [
    {
     "data": {
      "text/html": [
       "<style>#sk-container-id-1 {color: black;background-color: white;}#sk-container-id-1 pre{padding: 0;}#sk-container-id-1 div.sk-toggleable {background-color: white;}#sk-container-id-1 label.sk-toggleable__label {cursor: pointer;display: block;width: 100%;margin-bottom: 0;padding: 0.3em;box-sizing: border-box;text-align: center;}#sk-container-id-1 label.sk-toggleable__label-arrow:before {content: \"▸\";float: left;margin-right: 0.25em;color: #696969;}#sk-container-id-1 label.sk-toggleable__label-arrow:hover:before {color: black;}#sk-container-id-1 div.sk-estimator:hover label.sk-toggleable__label-arrow:before {color: black;}#sk-container-id-1 div.sk-toggleable__content {max-height: 0;max-width: 0;overflow: hidden;text-align: left;background-color: #f0f8ff;}#sk-container-id-1 div.sk-toggleable__content pre {margin: 0.2em;color: black;border-radius: 0.25em;background-color: #f0f8ff;}#sk-container-id-1 input.sk-toggleable__control:checked~div.sk-toggleable__content {max-height: 200px;max-width: 100%;overflow: auto;}#sk-container-id-1 input.sk-toggleable__control:checked~label.sk-toggleable__label-arrow:before {content: \"▾\";}#sk-container-id-1 div.sk-estimator input.sk-toggleable__control:checked~label.sk-toggleable__label {background-color: #d4ebff;}#sk-container-id-1 div.sk-label input.sk-toggleable__control:checked~label.sk-toggleable__label {background-color: #d4ebff;}#sk-container-id-1 input.sk-hidden--visually {border: 0;clip: rect(1px 1px 1px 1px);clip: rect(1px, 1px, 1px, 1px);height: 1px;margin: -1px;overflow: hidden;padding: 0;position: absolute;width: 1px;}#sk-container-id-1 div.sk-estimator {font-family: monospace;background-color: #f0f8ff;border: 1px dotted black;border-radius: 0.25em;box-sizing: border-box;margin-bottom: 0.5em;}#sk-container-id-1 div.sk-estimator:hover {background-color: #d4ebff;}#sk-container-id-1 div.sk-parallel-item::after {content: \"\";width: 100%;border-bottom: 1px solid gray;flex-grow: 1;}#sk-container-id-1 div.sk-label:hover label.sk-toggleable__label {background-color: #d4ebff;}#sk-container-id-1 div.sk-serial::before {content: \"\";position: absolute;border-left: 1px solid gray;box-sizing: border-box;top: 0;bottom: 0;left: 50%;z-index: 0;}#sk-container-id-1 div.sk-serial {display: flex;flex-direction: column;align-items: center;background-color: white;padding-right: 0.2em;padding-left: 0.2em;position: relative;}#sk-container-id-1 div.sk-item {position: relative;z-index: 1;}#sk-container-id-1 div.sk-parallel {display: flex;align-items: stretch;justify-content: center;background-color: white;position: relative;}#sk-container-id-1 div.sk-item::before, #sk-container-id-1 div.sk-parallel-item::before {content: \"\";position: absolute;border-left: 1px solid gray;box-sizing: border-box;top: 0;bottom: 0;left: 50%;z-index: -1;}#sk-container-id-1 div.sk-parallel-item {display: flex;flex-direction: column;z-index: 1;position: relative;background-color: white;}#sk-container-id-1 div.sk-parallel-item:first-child::after {align-self: flex-end;width: 50%;}#sk-container-id-1 div.sk-parallel-item:last-child::after {align-self: flex-start;width: 50%;}#sk-container-id-1 div.sk-parallel-item:only-child::after {width: 0;}#sk-container-id-1 div.sk-dashed-wrapped {border: 1px dashed gray;margin: 0 0.4em 0.5em 0.4em;box-sizing: border-box;padding-bottom: 0.4em;background-color: white;}#sk-container-id-1 div.sk-label label {font-family: monospace;font-weight: bold;display: inline-block;line-height: 1.2em;}#sk-container-id-1 div.sk-label-container {text-align: center;}#sk-container-id-1 div.sk-container {/* jupyter's `normalize.less` sets `[hidden] { display: none; }` but bootstrap.min.css set `[hidden] { display: none !important; }` so we also need the `!important` here to be able to override the default hidden behavior on the sphinx rendered scikit-learn.org. See: https://github.com/scikit-learn/scikit-learn/issues/21755 */display: inline-block !important;position: relative;}#sk-container-id-1 div.sk-text-repr-fallback {display: none;}</style><div id=\"sk-container-id-1\" class=\"sk-top-container\"><div class=\"sk-text-repr-fallback\"><pre>SVC(C=100, gamma=1)</pre><b>In a Jupyter environment, please rerun this cell to show the HTML representation or trust the notebook. <br />On GitHub, the HTML representation is unable to render, please try loading this page with nbviewer.org.</b></div><div class=\"sk-container\" hidden><div class=\"sk-item\"><div class=\"sk-estimator sk-toggleable\"><input class=\"sk-toggleable__control sk-hidden--visually\" id=\"sk-estimator-id-1\" type=\"checkbox\" checked><label for=\"sk-estimator-id-1\" class=\"sk-toggleable__label sk-toggleable__label-arrow\">SVC</label><div class=\"sk-toggleable__content\"><pre>SVC(C=100, gamma=1)</pre></div></div></div></div></div>"
      ],
      "text/plain": [
       "SVC(C=100, gamma=1)"
      ]
     },
     "execution_count": 13,
     "metadata": {},
     "output_type": "execute_result"
    }
   ],
   "source": [
    "best_model"
   ]
  },
  {
   "cell_type": "markdown",
   "metadata": {},
   "source": [
    "## EVALUATION\n",
    "---"
   ]
  },
  {
   "cell_type": "markdown",
   "metadata": {},
   "source": [
    "Tahap evaluasi merupakan tahap penilaian atas kebenaran data. Melalui tahap ini kita dapat mengetahui seberapa jauh suatu data dapat dipercaya."
   ]
  },
  {
   "cell_type": "code",
   "execution_count": 14,
   "metadata": {},
   "outputs": [],
   "source": [
    "with open('model_svm.pkl', 'rb') as file:\n",
    "    model_svm = pickle.load(file)\n",
    "\n",
    "from sklearn.metrics import accuracy_score\n",
    "\n",
    "model_svm.fit(zscore_training, target_train)\n",
    "y_pred_svm = model_svm.predict(zscore_testing)"
   ]
  },
  {
   "cell_type": "markdown",
   "metadata": {},
   "source": [
    "### **Akurasi**"
   ]
  },
  {
   "cell_type": "markdown",
   "metadata": {},
   "source": [
    "**Akurasi** adalah rasio prediksi benar (positif dan negatif) atau True Positif dan True Negative dibandingkan dengan total data.  \n",
    "\n",
    "$ Accuracy = \\frac{TP+TN}{TP+TN+FP+FN} $"
   ]
  },
  {
   "cell_type": "code",
   "execution_count": 15,
   "metadata": {},
   "outputs": [
    {
     "name": "stdout",
     "output_type": "stream",
     "text": [
      "Akurasi Menggunakan Support Vector Machine :  0.5208643815201193\n"
     ]
    }
   ],
   "source": [
    "akurasi_svm = accuracy_score(target_test, y_pred_svm)\n",
    "print('Akurasi Menggunakan Support Vector Machine : ', akurasi_svm)"
   ]
  },
  {
   "cell_type": "markdown",
   "metadata": {},
   "source": [
    "### **Presisi dan Recall**"
   ]
  },
  {
   "cell_type": "markdown",
   "metadata": {},
   "source": [
    "* **Presisi** mengukur sejauh mana hasil positif yang diprediksi oleh model adalah benar.  \n",
    "$Precision = \\frac{TP}{TP+FP}$  \n",
    "\n",
    "* **Recall** mengukur sejauh mana model dapat mengidentifikasi dengan benar semua instance positif dalam data.  \n",
    "$Recall = \\frac{TP}{TP+FN}$"
   ]
  },
  {
   "cell_type": "code",
   "execution_count": 16,
   "metadata": {},
   "outputs": [
    {
     "name": "stdout",
     "output_type": "stream",
     "text": [
      "Presisi : 0.5115540383888001\n",
      "Recall : 0.5189737673921567\n"
     ]
    }
   ],
   "source": [
    "from sklearn.metrics import precision_score, recall_score\n",
    "\n",
    "# Hitung presisi\n",
    "precision = precision_score(target_test, y_pred_svm, average='macro')\n",
    "\n",
    "# Hitung recall\n",
    "recall = recall_score(target_test, y_pred_svm, average='macro')\n",
    "\n",
    "print(\"Presisi :\", precision)\n",
    "print(\"Recall :\", recall)"
   ]
  },
  {
   "cell_type": "markdown",
   "metadata": {},
   "source": [
    "### **F-1 Score**"
   ]
  },
  {
   "cell_type": "markdown",
   "metadata": {},
   "source": [
    "F1-Score adalah metrik gabungan yang mempertimbangkan presisi dan recall.  \n",
    "$F1-Score = \\frac{2.TP}{2.TP+FP+FN}$"
   ]
  },
  {
   "cell_type": "code",
   "execution_count": 17,
   "metadata": {},
   "outputs": [
    {
     "name": "stdout",
     "output_type": "stream",
     "text": [
      "F1 - Score : 0.5115540383888001\n"
     ]
    }
   ],
   "source": [
    "from sklearn.metrics import f1_score\n",
    "\n",
    "# Hitung f1-score\n",
    "f1_score = f1_score(target_test, y_pred_svm, average='macro')\n",
    "\n",
    "print(\"F1 - Score :\", precision)"
   ]
  },
  {
   "cell_type": "markdown",
   "metadata": {},
   "source": [
    "### **Confussion Matrix**"
   ]
  },
  {
   "cell_type": "markdown",
   "metadata": {},
   "source": [
    "Confusion matrix adalah tabel yang digunakan untuk mengevaluasi kinerja model pada data uji di mana nilai sebenarnya diketahui. Ini menampilkan jumlah hasil prediksi yang benar dan yang salah yang dibuat oleh model secara terperinci.  \n",
    " \n",
    "Confusion matrix terdiri dari empat istilah utama:\n",
    "1. True Positives (TP): Prediksi positif yang benar, yaitu jumlah sampel positif yang diprediksi dengan benar oleh model.\n",
    "2. True Negatives (TN): Prediksi negatif yang benar, yaitu jumlah sampel negatif yang diprediksi dengan benar oleh model.\n",
    "3. False Positives (FP): Kesalahan prediksi di mana model memprediksi positif saat seharusnya negatif, yaitu jumlah sampel negatif yang salah diprediksi sebagai positif.\n",
    "4. False Negatives (FN): Kesalahan prediksi di mana model memprediksi negatif saat seharusnya positif, yaitu jumlah sampel positif yang salah diprediksi sebagai negatif."
   ]
  },
  {
   "cell_type": "code",
   "execution_count": 18,
   "metadata": {},
   "outputs": [
    {
     "data": {
      "image/png": "[encoded data removed]",
      "text/plain": [
       "<Figure size 432x288 with 2 Axes>"
      ]
     },
     "metadata": {
      "needs_background": "light"
     },
     "output_type": "display_data"
    }
   ],
   "source": [
    "import matplotlib.pyplot as plt\n",
    "from sklearn.metrics import confusion_matrix\n",
    "import seaborn as sns\n",
    "\n",
    "conf_matrix = confusion_matrix(target_test, y_pred_svm)\n",
    "\n",
    "plt.figure(figsize=(6, 4))\n",
    "sns.heatmap(conf_matrix, annot=True, cmap='Blues', fmt='g')\n",
    "plt.xlabel('Predicted labels')\n",
    "plt.ylabel('True labels')\n",
    "plt.title('Confusion Matrix')\n",
    "plt.show()"
   ]
  },
  {
   "cell_type": "markdown",
   "metadata": {},
   "source": [
    "Dari matrik di atas, diperoleh informasi sebagai berikut.\n",
    "* Orang yang tidak diabetes dan diprediksi benar ada 576 data\n",
    "* Orang prediabetes diprediksi benar ada 262 data\n",
    "* Orang diabetes diprediksi benar ada 560 data"
   ]
  },
  {
   "cell_type": "markdown",
   "metadata": {},
   "source": [
    "## DEPLOYMENT\n",
    "---"
   ]
  },
  {
   "cell_type": "markdown",
   "metadata": {},
   "source": [
    "code dilanjut pada file main.py untuk membangun sistem"
   ]
  }
 ],
 "metadata": {
  "kernelspec": {
   "display_name": "Python 3",
   "language": "python",
   "name": "python3"
  },
  "language_info": {
   "codemirror_mode": {
    "name": "ipython",
    "version": 3
   },
   "file_extension": ".py",
   "mimetype": "text/x-python",
   "name": "python",
   "nbconvert_exporter": "python",
   "pygments_lexer": "ipython3",
   "version": "3.9.6"
  }
 },
 "nbformat": 4,
 "nbformat_minor": 2
}
